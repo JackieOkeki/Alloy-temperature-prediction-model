{
 "cells": [
  {
   "cell_type": "markdown",
   "id": "b51697c7-bfa1-42c7-aa88-e0d0013df079",
   "metadata": {},
   "source": [
    "# Промышленность"
   ]
  },
  {
   "cell_type": "markdown",
   "id": "d0ff99a9-b9b6-4652-b359-3c1c89669187",
   "metadata": {},
   "source": [
    "Чтобы оптимизировать производственные расходы, металлургический комбинат «Стальная птица» решил уменьшить потребление электроэнергии на этапе обработки стали. Для этого комбинату нужно контролировать температуру сплава. Ваша задача — построить модель, которая будет её предсказывать. \n",
    "Заказчик хочет использовать разработанную модель для имитации технологического процесса. Ниже расскажем о деталях этого процесса. Их важно знать, прежде чем генерировать новые признаки."
   ]
  },
  {
   "cell_type": "markdown",
   "id": "a40b15c7-d49a-4541-8111-c5f88dee876f",
   "metadata": {},
   "source": [
    "### Описание этапа обработки"
   ]
  },
  {
   "cell_type": "markdown",
   "id": "08d73b75-cd24-4778-96d4-0972751e171b",
   "metadata": {},
   "source": [
    "Сталь обрабатывают в металлическом ковше вместимостью около 100 тонн. Чтобы ковш выдерживал высокие температуры, изнутри его облицовывают огнеупорным кирпичом. Расплавленную сталь заливают в ковш и подогревают до нужной температуры графитовыми электродами. Они установлены в крышке ковша. \n",
    "\n",
    "Из сплава выводится сера (этот процесс — десульфурация), добавлением примесей корректируется химический состав и отбираются пробы. Сталь легируют — изменяют её состав — подавая куски сплава из бункера для сыпучих материалов или проволоку через специальный трайб-аппарат (от англ. tribe — «масса»).\n",
    "\n",
    "Перед тем как первый раз ввести легирующие добавки, измеряют температуру стали и производят её химический анализ. Потом температуру на несколько минут повышают, добавляют легирующие материалы и продувают сплав инертным газом. Затем его перемешивают и снова проводят измерения. Такой цикл повторяется до достижения целевого химического состава и оптимальной температуры плавки.\n",
    "\n",
    "Тогда расплавленная сталь отправляется на доводку металла или поступает в машину непрерывной разливки. Оттуда готовый продукт выходит в виде заготовок-слябов (от англ. slab — «плита»)."
   ]
  },
  {
   "cell_type": "markdown",
   "id": "6be8cfc4-7a25-46eb-9557-4774ed4e58a7",
   "metadata": {},
   "source": [
    "### Описание данных"
   ]
  },
  {
   "cell_type": "markdown",
   "id": "1d3af25d-29f0-486a-af67-06a5f333e5d0",
   "metadata": {},
   "source": [
    "Данные состоят из нескольких файлов, полученных из разных источников:\n",
    "- **data_arc_new.csv** — данные об электродах;\n",
    "- **data_bulk_new.csv** — данные о подаче сыпучих материалов (объём);\n",
    "- **data_bulk_time_new.csv** — данные о подаче сыпучих материалов (время);\n",
    "- **data_gas_new.csv** — данные о продувке сплава газом;\n",
    "- **data_temp_new.csv** — результаты измерения температуры;\n",
    "- **data_wire_new.csv** — данные о проволочных материалах (объём);\n",
    "- **data_wire_time_new.csv** — данные о проволочных материалах (время)."
   ]
  },
  {
   "cell_type": "markdown",
   "id": "a7fbfa07-0aa9-40b6-bbdb-d7130b56aa23",
   "metadata": {},
   "source": [
    "**Файл data_arc_new.csv:**\n",
    "- key — номер партии;\n",
    "- Начало нагрева дугой — время начала нагрева;\n",
    "- Конец нагрева дугой — время окончания нагрева;\n",
    "- Активная мощность — значение активной мощности;\n",
    "- Реактивная мощность — значение реактивной мощности."
   ]
  },
  {
   "cell_type": "markdown",
   "id": "0e31d79a-8c17-4717-b4d4-039a9056d47b",
   "metadata": {},
   "source": [
    "**Файл data_bulk_new.csv:**\n",
    "- key — номер партии;\n",
    "- Bulk 1 … Bulk 15 — объём подаваемого материала."
   ]
  },
  {
   "cell_type": "markdown",
   "id": "027ead4a-8f14-4bee-a16c-2af2bbc9c6f8",
   "metadata": {},
   "source": [
    "**Файл data_bulk_time_new.csv:**\n",
    "- key — номер партии;\n",
    "- Bulk 1 … Bulk 15 — время подачи материала."
   ]
  },
  {
   "cell_type": "markdown",
   "id": "8d91d733-144b-49c3-b579-045624542c91",
   "metadata": {},
   "source": [
    "**Файл data_gas_new.csv:**\n",
    "- key — номер партии;\n",
    "- Газ 1 — объём подаваемого газа."
   ]
  },
  {
   "cell_type": "markdown",
   "id": "dceefad6-e648-4611-80e9-bac96df72f18",
   "metadata": {},
   "source": [
    "**Файл data_temp_new.csv:**\n",
    "- key — номер партии;\n",
    "- Время замера — время замера;\n",
    "- Температура — значение температуры."
   ]
  },
  {
   "cell_type": "markdown",
   "id": "9090d890-3a6f-47cd-952f-32ca91866169",
   "metadata": {},
   "source": [
    "**Файл data_wire_new.csv:**\n",
    "- key — номер партии;\n",
    "- Wire 1 … Wire 9 — объём подаваемых проволочных материалов."
   ]
  },
  {
   "cell_type": "markdown",
   "id": "d1b0f22e-2e1c-4b6f-bec1-93e871c85566",
   "metadata": {},
   "source": [
    "**Файл data_wire_time_new.csv:**\n",
    "- key — номер партии;\n",
    "- Wire 1 … Wire 9 — время подачи проволочных материалов."
   ]
  },
  {
   "cell_type": "markdown",
   "id": "970689d2-87f4-4544-aaf1-1a9efab2cec7",
   "metadata": {},
   "source": [
    "Во всех файлах столбец key содержит номер партии. В файлах может быть несколько строк с одинаковым значением key: они соответствуют разным итерациям обработки."
   ]
  },
  {
   "cell_type": "markdown",
   "id": "faf42a1e-2a46-467f-8ff7-1664b1bc2104",
   "metadata": {},
   "source": [
    "### План работы"
   ]
  },
  {
   "cell_type": "markdown",
   "id": "3f88e244-4ea5-47b1-ab00-758791543449",
   "metadata": {},
   "source": [
    "**Шаг 1. Загрузка данных**\n",
    "Загрузите данные и выполните их первичный осмотр.\n",
    "    \n",
    "**Шаг 2. Исследовательский анализ и предобработка данных**\n",
    "Выполните исследовательский анализ каждого датафрейма и при необходимости выполните предобработку. Сделайте выводы об имеющихся признаках: понадобятся ли они для обучения моделей.\n",
    "\n",
    "**Шаг 3. Объединение данных**\n",
    "Объедините выбранные вами признаки в один датафрейм по ключу.\n",
    "\n",
    "**Шаг 4. Исследовательский анализ и предобработка данных объединённого датафрейма**\n",
    "Выполните исследовательский анализ объединённого датафрейма, визуализируйте распределения признаков и при необходимости выполните предобработку. Проведите корреляционный анализ. Напоминаем, что вы можете использовать не только имеющиеся признаки, но и генерировать новые.\n",
    "\n",
    "**Шаг 5. Подготовка данных**\n",
    "Выполните подготовку данных для обучения модели. Разделите данные на две выборки, при масштабировании и кодировании учитывайте особенности данных и моделей.\n",
    "\n",
    "**Шаг 6. Обучение моделей машинного обучения**\n",
    "Обучите как минимум две модели. Хотя бы для одной из них подберите как минимум два гиперпараметра.\n",
    "\n",
    "**Шаг 7. Выбор лучшей модели**\n",
    "Выберите лучшую модель и проверьте её качество на тестовой выборке.\n",
    "\n",
    "**Шаг 8. Общий вывод и рекомендации заказчику**\n",
    "Сделайте общий вывод о проделанной работе: опишите основные этапы работы, полученные результаты и дайте рекомендации для бизнеса."
   ]
  },
  {
   "cell_type": "markdown",
   "id": "10550492-d2c0-4e5b-9959-bde270ad7cb2",
   "metadata": {},
   "source": [
    "## 0. Загрузка необходимых библиотек и методов"
   ]
  },
  {
   "cell_type": "code",
   "execution_count": null,
   "id": "6929b825-6ea1-4ef3-a79d-bbb05c961832",
   "metadata": {},
   "outputs": [],
   "source": [
    "pip install -U -q ydata-profiling"
   ]
  },
  {
   "cell_type": "code",
   "execution_count": null,
   "id": "4c70fd43-efe2-4d13-8caf-ebd437e77493",
   "metadata": {},
   "outputs": [],
   "source": [
    "import pandas as pd\n",
    "import matplotlib.pyplot as plt\n",
    "%matplotlib inline\n",
    "import seaborn as sns\n",
    "import numpy as np\n",
    "import shap\n",
    "import time\n",
    "\n",
    "# Импорт графической части plotly\n",
    "import plotly.express as px\n",
    "from plotly.offline import plot\n",
    "\n",
    "#from ydata_profiling import ProfileReport\n",
    "\n",
    "from sklearn.model_selection import train_test_split\n",
    "from sklearn.pipeline import Pipeline\n",
    "from sklearn.compose import ColumnTransformer\n",
    "from sklearn.preprocessing import StandardScaler, MinMaxScaler, RobustScaler\n",
    "\n",
    "from sklearn.ensemble import RandomForestRegressor\n",
    "from sklearn.linear_model import LinearRegression, Ridge\n",
    "from sklearn.tree import DecisionTreeRegressor\n",
    "from sklearn.metrics import mean_absolute_error, mean_squared_error, r2_score\n",
    "from sklearn.model_selection import RandomizedSearchCV, GridSearchCV\n",
    "from sklearn.feature_selection import SelectKBest, f_regression\n",
    "\n",
    "from sklearn.dummy import DummyRegressor\n",
    "from catboost import CatBoostRegressor\n",
    "\n",
    "# VIF анализ\n",
    "from statsmodels.stats.outliers_influence import variance_inflation_factor\n",
    "from statsmodels.tools.tools import add_constant\n",
    "\n",
    "from scipy.stats import loguniform, randint, uniform\n",
    "\n",
    "\n",
    "# Построение корреляционной матрицы\n",
    "from phik import phik_matrix\n",
    "from phik.report import plot_correlation_matrix"
   ]
  },
  {
   "cell_type": "code",
   "execution_count": null,
   "id": "51515656-a97d-49d9-b78e-15b0077da0ec",
   "metadata": {},
   "outputs": [],
   "source": [
    "from IPython.display import display, HTML\n",
    "display(HTML(\"<style>.container {width:70% !important; }</style>\"))"
   ]
  },
  {
   "cell_type": "code",
   "execution_count": null,
   "id": "41340533-c852-4fa6-9b4d-b2005f95d13c",
   "metadata": {},
   "outputs": [],
   "source": [
    "RANDOM_STATE = 5052025"
   ]
  },
  {
   "cell_type": "markdown",
   "id": "84262d05-0058-4cd4-b650-5c8902f8fc16",
   "metadata": {},
   "source": [
    "## 1. Загрузка данных"
   ]
  },
  {
   "cell_type": "markdown",
   "id": "e2c769cc-3cc5-468f-864b-db3a933b8736",
   "metadata": {},
   "source": [
    "### 1.1. Загрузка данных об электродах"
   ]
  },
  {
   "cell_type": "code",
   "execution_count": null,
   "id": "7285241d-5262-43ae-ad00-d5138f21bfd1",
   "metadata": {},
   "outputs": [],
   "source": [
    "data_arc_new = pd.read_csv('https://code.s3.yandex.net/datasets/data_arc_new.csv', parse_dates=['Начало нагрева дугой', 'Конец нагрева дугой'])"
   ]
  },
  {
   "cell_type": "code",
   "execution_count": null,
   "id": "efe95c38-067f-42f2-9325-e071058ab560",
   "metadata": {},
   "outputs": [],
   "source": [
    "data_arc_new.head()"
   ]
  },
  {
   "cell_type": "code",
   "execution_count": null,
   "id": "c25ece79-5372-4a54-a400-cc423af4db70",
   "metadata": {},
   "outputs": [],
   "source": [
    "data_arc_new.describe().T"
   ]
  },
  {
   "cell_type": "code",
   "execution_count": null,
   "id": "fa0dae9a-ae6c-46ea-bb99-00af2d5f1eb2",
   "metadata": {},
   "outputs": [],
   "source": [
    "data_arc_new.info()"
   ]
  },
  {
   "cell_type": "markdown",
   "id": "32a97e8b-fe7e-4dc2-8c06-3dfc958f8921",
   "metadata": {},
   "source": [
    "#### Выводы после знакомства с данными"
   ]
  },
  {
   "cell_type": "markdown",
   "id": "831c78c6-c03c-49ed-a0f6-f787f4b89ffe",
   "metadata": {},
   "source": [
    "- В данных около 15 тысяч строк. Пропущенные значения - отсутствуют;\n",
    "- Партии проходили обработку по несколько раз;\n",
    "- Временным столбцам определили соответствующий тип данных на этапе считывания;\n",
    "- В данных по времени виден пробел в один период;\n",
    "- Активная и реактивная мощность имеют высокий уровень корреляции;\n",
    "- В столбце реактивной мощности присутствуют выбросы.\n",
    "\n",
    "Первичный анализ показал, что данные таблицы требуют небольшой предобработки - изменение типов столбцов и избавление от выбросов."
   ]
  },
  {
   "cell_type": "markdown",
   "id": "923c212d-8e63-4aef-9c0b-259c110d4077",
   "metadata": {},
   "source": [
    "### 1.2. Загрузка данных о подаче сыпучих материалов"
   ]
  },
  {
   "cell_type": "code",
   "execution_count": null,
   "id": "de56577b-c141-4ea4-ae3e-0f82f616415c",
   "metadata": {},
   "outputs": [],
   "source": [
    "data_bulk_new = pd.read_csv('https://code.s3.yandex.net/datasets/data_bulk_new.csv')"
   ]
  },
  {
   "cell_type": "code",
   "execution_count": null,
   "id": "1c91c0d3-7ff5-4db0-98f6-14fa62142320",
   "metadata": {},
   "outputs": [],
   "source": [
    "data_bulk_new.describe().T"
   ]
  },
  {
   "cell_type": "code",
   "execution_count": null,
   "id": "fb92dc63-8898-4fc3-9f2e-efdcadb01d5d",
   "metadata": {},
   "outputs": [],
   "source": [
    "data_bulk_new.info()"
   ]
  },
  {
   "cell_type": "code",
   "execution_count": null,
   "id": "73815ef0-8d6f-4b95-9819-49c0feca9277",
   "metadata": {},
   "outputs": [],
   "source": [
    "date_columns = pd.read_csv('https://code.s3.yandex.net/datasets/data_bulk_time_new.csv').drop(columns=['key']).columns.tolist()\n",
    "data_bulk_time_new = pd.read_csv('https://code.s3.yandex.net/datasets/data_bulk_time_new.csv', parse_dates=date_columns)"
   ]
  },
  {
   "cell_type": "code",
   "execution_count": null,
   "id": "0db6ee98-7ac4-4003-974d-d5a03658a2ee",
   "metadata": {
    "scrolled": true
   },
   "outputs": [],
   "source": [
    "data_bulk_time_new.describe().T"
   ]
  },
  {
   "cell_type": "code",
   "execution_count": null,
   "id": "e646b074-912c-4245-9c74-6802c227a4d8",
   "metadata": {},
   "outputs": [],
   "source": [
    "data_bulk_time_new.info()"
   ]
  },
  {
   "cell_type": "markdown",
   "id": "cd205d8c-bc61-453a-b94b-320a9c158206",
   "metadata": {},
   "source": [
    "#### Выводы после знакомства с данными"
   ]
  },
  {
   "cell_type": "markdown",
   "id": "d493b29c-ab27-4467-a46d-53837ff7975d",
   "metadata": {},
   "source": [
    "- Таблица содержит порядка 3100 строк. В данных присутствует очень много пропусков;\n",
    "- Пропуски следует предобработать и заполнить нулями - если данных о веществе нет, значит она не добавлялась;\n",
    "- Заметим эту деталь, можно сделать интнресный первичный вывод - многие вещества друг с другам не взаимодействуют. При добавлении одного - другой не будет добавляться;\n",
    "- Исключая подобную логику взаимодействия веществ - другой высокой корреляции не наблюдается в данных;\n",
    "- Признаки таблицы об объёме подачи имеют соответствующий им тип данных;\n",
    "- Признаки таблицы о времени подачи преобразовали в соответствующий тип при считывании.\n",
    "\n",
    "Подводя итог знакомства, можно отметить, что данные требуют заполнения пропущенных значений. А также, можно предположить, что модели потребуется введения новых признаков, способных нивелировать влияние обнаруженной корреляции."
   ]
  },
  {
   "cell_type": "markdown",
   "id": "aefadccc-00b1-4ddb-bdb5-90016f5ab037",
   "metadata": {},
   "source": [
    "### 1.3. Загрузка данных о продувке газом"
   ]
  },
  {
   "cell_type": "code",
   "execution_count": null,
   "id": "d5cedf0a-367b-46bd-8d11-f5df01fedb6d",
   "metadata": {},
   "outputs": [],
   "source": [
    "data_gas_new = pd.read_csv('https://code.s3.yandex.net/datasets/data_gas_new.csv')"
   ]
  },
  {
   "cell_type": "code",
   "execution_count": null,
   "id": "d73b07ef-6f66-4892-ba3f-13bfdc00b0e5",
   "metadata": {},
   "outputs": [],
   "source": [
    "data_gas_new.describe().T"
   ]
  },
  {
   "cell_type": "code",
   "execution_count": null,
   "id": "c7cac53b-d16b-428c-9fea-e4a79c88e942",
   "metadata": {},
   "outputs": [],
   "source": [
    "data_gas_new.info()"
   ]
  },
  {
   "cell_type": "markdown",
   "id": "8ea19ece-c03b-4306-9b06-069aade0c00f",
   "metadata": {},
   "source": [
    "#### Выводы о продувке газом"
   ]
  },
  {
   "cell_type": "markdown",
   "id": "8ec3726c-0e82-4ff5-b737-f5516e602293",
   "metadata": {},
   "source": [
    "- В данных примерно 3200 строк. Пропущенные значения отсутствуют;\n",
    "- Распределение данных напоминают смещённое в строну нормальное распределение с присутствием выбивающихся значений.\n",
    "\n",
    "Таблица не требует серьёзной предобработки. Но стоит детальнее ознакомиться с данными, где объём подаваемого газа слишком высок."
   ]
  },
  {
   "cell_type": "markdown",
   "id": "5124e690-e1a2-4ea2-ac09-d9716ff3201f",
   "metadata": {},
   "source": [
    "### 1.4. Загрузка данных об изменении температуры"
   ]
  },
  {
   "cell_type": "code",
   "execution_count": null,
   "id": "b7fa591a-61bf-4ae1-8a8b-8016e57ba505",
   "metadata": {},
   "outputs": [],
   "source": [
    "data_temp_new = pd.read_csv('https://code.s3.yandex.net/datasets/data_temp_new.csv', parse_dates=['Время замера'])"
   ]
  },
  {
   "cell_type": "code",
   "execution_count": null,
   "id": "3ad0326b-7363-4b0e-a8bd-04df42c732a8",
   "metadata": {},
   "outputs": [],
   "source": [
    "data_temp_new.describe().T"
   ]
  },
  {
   "cell_type": "code",
   "execution_count": null,
   "id": "1e1682ac-08ad-4a35-af9d-3513b8f8c034",
   "metadata": {},
   "outputs": [],
   "source": [
    "data_temp_new.info()"
   ]
  },
  {
   "cell_type": "markdown",
   "id": "317b36d6-f5c9-43f0-91b5-6117f9ce8b1b",
   "metadata": {},
   "source": [
    "#### Выводы о об изменении температуры"
   ]
  },
  {
   "cell_type": "markdown",
   "id": "7be63819-640e-4a22-9a94-300d72cacd93",
   "metadata": {},
   "source": [
    "- В таблице присутствует 18 тысяч строк. В столбце температуры есть порядка 3.5 тысяч пропусков;\n",
    "- Пропуски можем считать отсутствием замера;\n",
    "- Средняя температура находится на уровне 1500 тысяч градусов, однако имеют место быть значения сильно меньшие.\n",
    "\n",
    "Нужно подробнее изучить данные с температурой в районе 1190 градусов. В остальном всё в порядке."
   ]
  },
  {
   "cell_type": "markdown",
   "id": "a3503b28-184f-4882-aa96-85dd0a8be0d4",
   "metadata": {},
   "source": [
    "### 1.5. Загрузка данных о подаче проволочных материалов"
   ]
  },
  {
   "cell_type": "code",
   "execution_count": null,
   "id": "448e3c3c-ccbd-4f10-b8b3-cf76cfda7ed0",
   "metadata": {},
   "outputs": [],
   "source": [
    "data_wire_new = pd.read_csv('https://code.s3.yandex.net/datasets/data_wire_new.csv')"
   ]
  },
  {
   "cell_type": "code",
   "execution_count": null,
   "id": "7a53c1a7-ebce-497e-aee5-f424084fb4ef",
   "metadata": {},
   "outputs": [],
   "source": [
    "data_wire_new.describe().T"
   ]
  },
  {
   "cell_type": "code",
   "execution_count": null,
   "id": "c11cda50-4510-40b9-8650-6a97c2d65baa",
   "metadata": {},
   "outputs": [],
   "source": [
    "data_wire_new.info()"
   ]
  },
  {
   "cell_type": "code",
   "execution_count": null,
   "id": "f8f56b5d-f177-40f2-b079-77f5b1eff770",
   "metadata": {},
   "outputs": [],
   "source": [
    "date_columns = pd.read_csv('https://code.s3.yandex.net/datasets/data_wire_time_new.csv').drop('key',axis=1).columns.tolist()\n",
    "data_wire_time_new = pd.read_csv('https://code.s3.yandex.net/datasets/data_wire_time_new.csv', parse_dates=date_columns)"
   ]
  },
  {
   "cell_type": "code",
   "execution_count": null,
   "id": "cd200155-d263-4925-8859-8187e2a1be85",
   "metadata": {
    "scrolled": true
   },
   "outputs": [],
   "source": [
    "data_wire_time_new.describe().T"
   ]
  },
  {
   "cell_type": "code",
   "execution_count": null,
   "id": "45c489e4-3499-4cb0-a6cf-556149a06825",
   "metadata": {},
   "outputs": [],
   "source": [
    "data_wire_time_new.info()"
   ]
  },
  {
   "cell_type": "markdown",
   "id": "36606f5b-397d-4278-820b-6fc3777a75f1",
   "metadata": {},
   "source": [
    "#### Выводы о подаче проволочных материалов"
   ]
  },
  {
   "cell_type": "markdown",
   "id": "79fb7527-74cf-42f9-85c1-6d34d4ae80cc",
   "metadata": {},
   "source": [
    "- Проволочные материалы подавались реже, чем сыпучие;\n",
    "- Пропуски также означают отустствие материалов при продаче;\n",
    "- Данные имеют соответствующий тип им формат.\n",
    "\n",
    "Данные готовы к дальнейшему исследовательскому анализу."
   ]
  },
  {
   "cell_type": "markdown",
   "id": "6eab2ebe-9aaf-40bd-bb32-1ebaaa05b9e7",
   "metadata": {},
   "source": [
    "### Общие выводы после загрузки данных"
   ]
  },
  {
   "cell_type": "markdown",
   "id": "87955005-a973-408a-a1c3-280ad6cae43b",
   "metadata": {},
   "source": [
    "- Было загружено 6 датафреймов с информацией об обработке сплавов;\n",
    "- Представлены данные примерно за 4 месяца;\n",
    "- В данных отсутствуют дубликаты;\n",
    "- Пропуски с подаваемыми объёмами предлагается заполнить нулями;\n",
    "- Пропуски с измерениями температуры оставить без изменения;\n",
    "- Выбросы явно выбивающиеся из общего диапазона следует удалить;\n",
    "- Следует провести детальный исследовательский анализ для определения необходимых признаков модели МО;\n",
    "- Названия признаков стоит привести к одному типу зависи.\n",
    "\n",
    "Дальнейшим этапом работы станет предобработка данных и разносторонний исследовательский анализ."
   ]
  },
  {
   "cell_type": "markdown",
   "id": "3acb5fe0-8175-4b68-96c5-7545ce709d84",
   "metadata": {},
   "source": [
    "## 2. Исследовательский анализ и предобработка данных"
   ]
  },
  {
   "cell_type": "markdown",
   "id": "2b230798-f6e4-4ca3-80ed-242d772562a1",
   "metadata": {},
   "source": [
    "### 2.0. Реализация вспомогательных функций"
   ]
  },
  {
   "cell_type": "code",
   "execution_count": null,
   "id": "cdb8103b-e2af-4774-9a41-2d620bf37d66",
   "metadata": {},
   "outputs": [],
   "source": [
    "# Функция построения гистограммы данных\n",
    "def draw_hist_columns(data, columns):\n",
    "    for column in columns:\n",
    "            fig = px.histogram(data, x=column, title='Распределение столбца '+column)\n",
    "            fig.show()"
   ]
  },
  {
   "cell_type": "code",
   "execution_count": null,
   "id": "02d17734-fb75-4a6c-8b3e-ea6b20b32b87",
   "metadata": {},
   "outputs": [],
   "source": [
    "# Функция построения гистограммы данных\n",
    "def draw_hist_columns_without_zero(data, columns):\n",
    "    for column in columns:\n",
    "            fig = px.histogram(data[data[column] > 0], x=column, title='Распределение столбца '+column)\n",
    "            fig.show()"
   ]
  },
  {
   "cell_type": "markdown",
   "id": "7681c2b2-6251-4a84-b51c-dee23a078988",
   "metadata": {},
   "source": [
    "### 2.1. Исследовательский анализ данных"
   ]
  },
  {
   "cell_type": "markdown",
   "id": "1575e846-7376-449d-ad22-edd450dd3c04",
   "metadata": {},
   "source": [
    "#### 2.1.1. Анализ данных об электродах"
   ]
  },
  {
   "cell_type": "code",
   "execution_count": null,
   "id": "0679e8fb-21b9-4dc8-85a7-edee84484a9b",
   "metadata": {},
   "outputs": [],
   "source": [
    "data_arc_new['Длительность нагрева'] = (data_arc_new['Конец нагрева дугой'] - data_arc_new['Начало нагрева дугой']).dt.total_seconds()"
   ]
  },
  {
   "cell_type": "code",
   "execution_count": null,
   "id": "735780e9-2a76-4baf-ada0-9a3562148b7d",
   "metadata": {},
   "outputs": [],
   "source": [
    "data_agg_arc = data_arc_new.groupby('key').agg({\n",
    "    'Активная мощность':['mean','sum'],\n",
    "    'Реактивная мощность':['mean','sum'],\n",
    "    'Длительность нагрева':['sum','max','count']}).reset_index()\n",
    "data_agg_arc.columns = ['key', 'avg_active_power', 'total_active_power',\n",
    "                        'avg_reactive_power', 'total_reactive_power', 'total_heating_time', 'max_heating_time', 'count_heating_time']"
   ]
  },
  {
   "cell_type": "code",
   "execution_count": null,
   "id": "c3662efb-2fd7-4df4-95c3-642ea7152e4d",
   "metadata": {},
   "outputs": [],
   "source": [
    "data_agg_arc.describe().T"
   ]
  },
  {
   "cell_type": "code",
   "execution_count": null,
   "id": "f76f05dc-907e-4b5a-a11c-a88dc20419e0",
   "metadata": {
    "scrolled": true
   },
   "outputs": [],
   "source": [
    "px.box(data_agg_arc.drop(columns=['key']), title='Ящик с усами агрегированных данных об электродах')"
   ]
  },
  {
   "cell_type": "markdown",
   "id": "b9fca344-092e-4f91-9df8-418d8cd24bdb",
   "metadata": {},
   "source": [
    "- В среднем требуется 4 операции для доведения сплава до нужного состояния;\n",
    "- Есть сильный выброс в реактивной мощности;"
   ]
  },
  {
   "cell_type": "code",
   "execution_count": null,
   "id": "f9f786fb-e89a-4bb4-bf3c-ae73e5aa2770",
   "metadata": {
    "scrolled": true
   },
   "outputs": [],
   "source": [
    "draw_hist_columns(data_agg_arc, data_agg_arc.drop(columns=['key']).columns)"
   ]
  },
  {
   "cell_type": "markdown",
   "id": "a1e1c003-244d-44d0-a080-da214856caaa",
   "metadata": {},
   "source": [
    "##### Выводы после анализа данных об электродах\n",
    "- Агрегированные распределения во многом напоминают нормальное распределение с растянутой стороной;\n",
    "- В данных о реактивной мощности присутствуют выбросы сильно портящие картину;\n",
    "- В среднем требуется 4 операции для получения необходимого соотношения сплава."
   ]
  },
  {
   "cell_type": "markdown",
   "id": "1ca524c5-dabf-45f4-bfec-33116ca8b1dc",
   "metadata": {},
   "source": [
    "#### 2.1.2 Анализ сыпучих материалов"
   ]
  },
  {
   "cell_type": "code",
   "execution_count": null,
   "id": "7af0173e-6b9d-413e-930b-470331c54ff2",
   "metadata": {},
   "outputs": [],
   "source": [
    "data_agg_bulk = data_bulk_new.groupby('key').sum().reset_index()\n",
    "data_agg_bulk.columns = ['key'] + [f'bulk_{i}_sum' for i in range(1,16)]\n",
    "data_agg_bulk['total_bulk_all'] = data_agg_bulk.filter(like='bulk_').sum(axis=1)"
   ]
  },
  {
   "cell_type": "code",
   "execution_count": null,
   "id": "4ad3188c-1828-4ac6-980f-aa8e87961dde",
   "metadata": {
    "scrolled": true
   },
   "outputs": [],
   "source": [
    "px.scatter_matrix(data_agg_bulk, width=2500, height=2500, title='Матрица рассеяния агрегированных данных сыпучих материалов')"
   ]
  },
  {
   "cell_type": "code",
   "execution_count": null,
   "id": "9fd68d1f-8151-4931-b08f-390fe6040e41",
   "metadata": {
    "scrolled": true
   },
   "outputs": [],
   "source": [
    "draw_hist_columns_without_zero(data_agg_bulk, data_agg_bulk.drop(columns=['key']).columns)"
   ]
  },
  {
   "cell_type": "markdown",
   "id": "a722c52d-e278-4933-82c8-ddd9a14df759",
   "metadata": {},
   "source": [
    "Во многом распределение признаков суммарной подачи - напоминаем смещённое нормальное распределение изменённой формы.\n",
    "Стоит обратить внимание на подачу признаков B1, B12, B14, B15. Они, как правило подаются в фиксированных суммарных объёмах."
   ]
  },
  {
   "cell_type": "code",
   "execution_count": null,
   "id": "88e94256",
   "metadata": {},
   "outputs": [],
   "source": []
  },
  {
   "cell_type": "code",
   "execution_count": null,
   "id": "9009234a-5d85-4fdf-b310-9bcc1f760ed8",
   "metadata": {},
   "outputs": [],
   "source": [
    "data_agg_bulk.describe().T"
   ]
  },
  {
   "cell_type": "code",
   "execution_count": null,
   "id": "281456ab-2283-4eba-b969-19034903b6e1",
   "metadata": {
    "scrolled": true
   },
   "outputs": [],
   "source": [
    "px.box(data_agg_bulk.drop(columns=['key']), title='Ящик с усами агрегированных сыпучих материалов')"
   ]
  },
  {
   "cell_type": "markdown",
   "id": "e63c1dd9-7ced-4683-bacc-a597ebfbb982",
   "metadata": {},
   "source": [
    "Можем наблюдать влияние выбросов на показатель суммарной подачи всех материалов."
   ]
  },
  {
   "cell_type": "code",
   "execution_count": null,
   "id": "036d664d-e1c5-47e7-a8f1-95c206eea0fd",
   "metadata": {},
   "outputs": [],
   "source": [
    "# Средний объём по каждому материалу (по всем партиям)\n",
    "avg_bulk = data_bulk_new.filter(like='Bulk').mean().reset_index()\n",
    "avg_bulk.columns = ['material', 'avg_volume']\n",
    "\n",
    "# Доля каждого материала в общем среднем\n",
    "avg_bulk['avg_share'] = avg_bulk['avg_volume'] / avg_bulk['avg_volume'].sum() * 100\n",
    "\n",
    "# Сортируем по убыванию доли\n",
    "avg_bulk = avg_bulk.sort_values('avg_share', ascending=False)"
   ]
  },
  {
   "cell_type": "code",
   "execution_count": null,
   "id": "68eb6b8c-650a-45cc-baa7-76a031389fff",
   "metadata": {},
   "outputs": [],
   "source": [
    "plt.figure(figsize=(10, 8))\n",
    "plt.pie(\n",
    "    avg_bulk['avg_share'],\n",
    "    labels=avg_bulk['material'],\n",
    "    autopct='%.1f%%',\n",
    "    startangle=90,\n",
    "    colors=plt.cm.tab20.colors,\n",
    ")\n",
    "plt.title('Средние доли сыпучих материалов по всем партиям', pad=20)\n",
    "plt.axis('equal')\n",
    "plt.tight_layout()\n",
    "plt.show()"
   ]
  },
  {
   "cell_type": "markdown",
   "id": "028040d7-6df7-4ed5-9659-6e2a29a6632c",
   "metadata": {},
   "source": [
    "Наибольший объём добавления имеют признаки: B7, B12, B2,B13,B14. Именно этими материалами в большей мере происходит регулирования сплава."
   ]
  },
  {
   "cell_type": "markdown",
   "id": "55748fc1-75d9-4f69-bd23-c73e3fcbb618",
   "metadata": {},
   "source": [
    "##### Анализ первоначальных данных"
   ]
  },
  {
   "cell_type": "code",
   "execution_count": null,
   "id": "caabb68a-3e23-4aba-85cd-f3b5cec5b499",
   "metadata": {
    "scrolled": true
   },
   "outputs": [],
   "source": [
    "px.scatter_matrix(data_bulk_new, width=2500, height=2500, title='Матрица рассеяния сыпучих материалов')"
   ]
  },
  {
   "cell_type": "markdown",
   "id": "23143348-281c-4bd0-a25e-f989fcf28472",
   "metadata": {},
   "source": [
    "Наблюдаем в некоторых графиках пустоту - это значит, что вещества взаимоисключают друг друга, что подтверждает прошлое продположение о взаимосвязи признаков по наличию/отсутствию значений. И объясняет высокий уровень корреляции таких признаков. Но если мы заполним данные нулями - корреляция пропадёт.\n",
    "При этом, если не учитывать пропущенные значения, то сильной корреляции не наблюдается."
   ]
  },
  {
   "cell_type": "code",
   "execution_count": null,
   "id": "0d362b78-3672-44ba-a407-5d008d06a46e",
   "metadata": {},
   "outputs": [],
   "source": [
    "px.box(data_bulk_new.drop(columns=['key']), title='Ящик с усами сыпучих материалов')"
   ]
  },
  {
   "cell_type": "markdown",
   "id": "2428ce90-e1a6-4e1f-9095-627ab1b5d160",
   "metadata": {},
   "source": [
    "Можем наблюдать несколько сильно выбивающихся выбросов. Стоит от них в дальнейшем избавиться. Остальные же выбросы стоит оставить. Теоритически модель лучше будет готовка к нестандартным показателям."
   ]
  },
  {
   "cell_type": "code",
   "execution_count": null,
   "id": "92e3c26d-a28f-496c-bf9c-2845ccffc28a",
   "metadata": {
    "scrolled": true
   },
   "outputs": [],
   "source": [
    "draw_hist_columns(data_bulk_new, data_bulk_new.drop(columns=['key']).columns)"
   ]
  },
  {
   "cell_type": "markdown",
   "id": "309a03ac-363c-498a-b0f3-39165faa1c73",
   "metadata": {},
   "source": [
    "Форму подачи веществ можно объединить в группы признаков:\n",
    "- B8, B9, B13, B2, B5,B7 - подадача дозирована, выделяются чёткие группы объёмов. Наибольшим образом выделяется B8 - форма подачи лишь одна;\n",
    "- B3, B4, B6, B10, - Отдалённо напоминают нормальное распределение или распределение Пуассона;\n",
    "- Оставшиеся признаки имеют хаотичное распределние с явными выбросами.\n"
   ]
  },
  {
   "cell_type": "markdown",
   "id": "cf11ed25-5ec0-410d-8f82-e703d0f99588",
   "metadata": {},
   "source": [
    "##### Выводы анализа сыпучих материалов\n",
    "- В данных присутствуют сильные выбросы. От них стоит избавиться;\n",
    "- Некоторые материалы подаются в фиксированных объёмах, а некоторые же в свободной;\n",
    "- Анализ средней доли наполнения сплава показал, что признаки B7, B12, B2, B13, B14 вносят наибольший вклад объёма;\n",
    "- В среднем 4-5 раза вносятся материалы при подготовке сплава;\n",
    "- Время подачи как признак предсказания температуры модели кажется на текущим этапе неинформативным, а потому его анализ не производится."
   ]
  },
  {
   "cell_type": "markdown",
   "id": "efc83ff9-106f-4068-b450-a71572952895",
   "metadata": {},
   "source": [
    "#### 2.1.3. Анализ проволочных материалов"
   ]
  },
  {
   "cell_type": "code",
   "execution_count": null,
   "id": "cefd0d5e-e268-4349-999b-35be67ee64d5",
   "metadata": {},
   "outputs": [],
   "source": [
    "data_agg_wire = data_wire_new.groupby('key').sum().reset_index()\n",
    "data_agg_wire.columns = ['key'] + [f'wire_{i}_sum' for i in range(1,10)]\n",
    "data_agg_wire['total_wire_all'] = data_agg_wire.filter(like='wire_').sum(axis=1)"
   ]
  },
  {
   "cell_type": "code",
   "execution_count": null,
   "id": "60bc821e-02bd-49d6-be9d-34a320fecc40",
   "metadata": {
    "scrolled": true
   },
   "outputs": [],
   "source": [
    "px.scatter_matrix(data_agg_wire, width=2500, height=2500, title='Матрица рассеяния агрегированных данных проволочных материалов')"
   ]
  },
  {
   "cell_type": "code",
   "execution_count": null,
   "id": "686a1c78-9812-4280-abdc-2a19f2707e5b",
   "metadata": {
    "scrolled": true
   },
   "outputs": [],
   "source": [
    "draw_hist_columns_without_zero(data_agg_wire, data_agg_wire.drop(columns=['key']).columns)"
   ]
  },
  {
   "cell_type": "markdown",
   "id": "234cbe52-80d3-42c2-b1c0-a43ae49988e9",
   "metadata": {},
   "source": [
    "Распределение некоторых признаков суммарной подачи - напоминаем форму нормального распределения.\n",
    "Но при этом многие признаки имеют хаотичное распределение. Это может быть обусловнело разными факторами - тип материала, его влияние на конечный сплав. Возможно эти материалы отвечают за содержание определённого вещества, а потому объём должен быть точен."
   ]
  },
  {
   "cell_type": "code",
   "execution_count": null,
   "id": "bee4be07-26ef-42d2-b4a3-1b9e2203eb7e",
   "metadata": {},
   "outputs": [],
   "source": [
    "data_agg_wire.describe().T"
   ]
  },
  {
   "cell_type": "code",
   "execution_count": null,
   "id": "f33f8a2b-fa35-4b86-9d3f-983b543c53fd",
   "metadata": {
    "scrolled": true
   },
   "outputs": [],
   "source": [
    "px.box(data_agg_wire.drop(columns=['key']), title='Ящик с усами агрегированных сыпучих материалов')"
   ]
  },
  {
   "cell_type": "markdown",
   "id": "b51aad01-eb86-442a-a929-3a8e86df3d9f",
   "metadata": {},
   "source": [
    "Наиболее  выделающимися выбросами обладает признак W3, со слишком высокими значениями. Интересно, с чем может быть связан такой разброс?"
   ]
  },
  {
   "cell_type": "code",
   "execution_count": null,
   "id": "711edc80-8305-4271-a7cc-0b12d67d733d",
   "metadata": {},
   "outputs": [],
   "source": [
    "# Средний объём по каждому материалу (по всем партиям)\n",
    "avg_wire = data_wire_new.filter(like='Wire').mean().reset_index()\n",
    "avg_wire.columns = ['material', 'avg_volume']\n",
    "\n",
    "# Доля каждого материала в общем среднем\n",
    "avg_wire['avg_share'] = avg_wire['avg_volume'] / avg_wire['avg_volume'].sum() * 100\n",
    "\n",
    "# Сортируем по убыванию доли\n",
    "avg_wire = avg_wire.sort_values('avg_share', ascending=False)"
   ]
  },
  {
   "cell_type": "code",
   "execution_count": null,
   "id": "68fa6086-5a0b-4a50-8635-80b1c091580f",
   "metadata": {},
   "outputs": [],
   "source": [
    "plt.figure(figsize=(10, 8))\n",
    "plt.pie(\n",
    "    avg_wire['avg_share'],\n",
    "    labels=avg_wire['material'],\n",
    "    autopct='%.1f%%',\n",
    "    startangle=90,\n",
    "    colors=plt.cm.tab20.colors,\n",
    ")\n",
    "plt.title('Средние доли проволочных материалов по всем партиям', pad=20)\n",
    "plt.axis('equal')\n",
    "plt.tight_layout()\n",
    "plt.show()"
   ]
  },
  {
   "cell_type": "markdown",
   "id": "b14f8b61-0bbc-4d74-8824-f843c4f82d54",
   "metadata": {},
   "source": [
    "Наибольший объём добавления имеют признаки: W3, W1, W4, W8. При этом, помним, что W3, согласно ящику с усами обладает значительными выбросами. Вероятнее всего, они и послужили основой такой статистики."
   ]
  },
  {
   "cell_type": "markdown",
   "id": "475fa0b7-9f1e-4a3c-81b6-15e325fa7331",
   "metadata": {},
   "source": [
    "##### Выводы анализа проволочных материалов\n",
    "- В данных присутствуют сильные выбросы. Особенно выделяется признак W3;\n",
    "- Некоторые материалы подаются в фиксированных объёмах, а некоторые же в свободной;\n",
    "- Анализ среднего показал, что наибольший объём имеет признак W1;\n",
    "- Время подачи как признак предсказания температуры модели кажется на текущим этапе неинформативным, а потому его анализ не производится."
   ]
  },
  {
   "cell_type": "markdown",
   "id": "1e702f3c-0ee7-4bc9-b3a4-f74aeb293437",
   "metadata": {},
   "source": [
    "#### 2.1.4. Анализ данных подачи газа"
   ]
  },
  {
   "cell_type": "code",
   "execution_count": null,
   "id": "6b738cf0-c016-4bc5-bd8c-c79c47254c4d",
   "metadata": {
    "scrolled": true
   },
   "outputs": [],
   "source": [
    "px.histogram(data_gas_new.drop(columns=['key']), title='Распределение подачи газа в показателях чистого вида')"
   ]
  },
  {
   "cell_type": "code",
   "execution_count": null,
   "id": "0dc7c641-5e98-4e0e-8ff4-03d66c2269e6",
   "metadata": {
    "scrolled": true
   },
   "outputs": [],
   "source": [
    "px.box(data_gas_new.drop(columns=['key']))"
   ]
  },
  {
   "cell_type": "code",
   "execution_count": null,
   "id": "18390d67-6892-4e88-8e9a-de6a466cd416",
   "metadata": {},
   "outputs": [],
   "source": [
    "data_gas_new.describe().T"
   ]
  },
  {
   "cell_type": "markdown",
   "id": "bba62f48-dc6d-4fbe-8f4e-89de1048164c",
   "metadata": {},
   "source": [
    "##### Выводы по данных подачи газом"
   ]
  },
  {
   "cell_type": "markdown",
   "id": "feaa24bc-9195-4ad1-b1bc-afcf9e20f534",
   "metadata": {},
   "source": [
    "- Распределение имеет вид близкий к нормальному;\n",
    "- Есть выбросы на правом конце - высокий показатель подачи газа;\n",
    "- Средний уровень подачи газа соответствует 11 у.е.;\n",
    "- Информации о продувке газом больше, чем сгруппированной информации по подаче материалов - это может говорить о том, что некоторые парти не получали материалов."
   ]
  },
  {
   "cell_type": "markdown",
   "id": "519d141a-2d64-4c97-a012-c5327d1e0722",
   "metadata": {},
   "source": [
    "#### 2.1.5. Анализ данных об изменении температуры"
   ]
  },
  {
   "cell_type": "code",
   "execution_count": null,
   "id": "0be8c136-6892-4322-aa30-97a9bfce9f6d",
   "metadata": {},
   "outputs": [],
   "source": [
    "data_temp_new.describe().T"
   ]
  },
  {
   "cell_type": "code",
   "execution_count": null,
   "id": "b0877653-b8c6-458d-af18-b9fc983d3f04",
   "metadata": {},
   "outputs": [],
   "source": [
    "data_agg_temp = data_temp_new.groupby('key').mean().reset_index()\n",
    "data_agg_temp.describe().T"
   ]
  },
  {
   "cell_type": "code",
   "execution_count": null,
   "id": "0a7ff08c-1a91-431b-afdd-650b1d2e78f2",
   "metadata": {
    "scrolled": true
   },
   "outputs": [],
   "source": [
    "px.histogram(data_agg_temp['Температура'], title='Распределение сгруппированных средних показателей температуры')"
   ]
  },
  {
   "cell_type": "code",
   "execution_count": null,
   "id": "a144d849-d8ce-42c3-b4b7-a65ca7433d4e",
   "metadata": {
    "scrolled": true
   },
   "outputs": [],
   "source": [
    "px.box(data_agg_temp['Температура'], title='Ящик с усами сгрупированных средних показателей температуры')"
   ]
  },
  {
   "cell_type": "code",
   "execution_count": null,
   "id": "5577f12a-ea9e-4beb-9bd2-c13e78001308",
   "metadata": {},
   "outputs": [],
   "source": [
    "last_data_temp = data_temp_new.groupby('key').agg(\n",
    "    temp_first=('Температура', 'first'),\n",
    "    temp_last=('Температура', 'last'),\n",
    "    cnt = ('Температура', 'count')\n",
    ").reset_index()"
   ]
  },
  {
   "cell_type": "code",
   "execution_count": null,
   "id": "00f58415-8e3b-49c5-a683-6c881c442f88",
   "metadata": {},
   "outputs": [],
   "source": [
    "px.histogram(last_data_temp['temp_last'], title='Распределение финальной температуры')"
   ]
  },
  {
   "cell_type": "code",
   "execution_count": null,
   "id": "da582e12-b93e-4e74-a9f4-df293bad5209",
   "metadata": {},
   "outputs": [],
   "source": [
    "px.histogram(last_data_temp['temp_first'], title='Распределение первой температуры')"
   ]
  },
  {
   "cell_type": "code",
   "execution_count": null,
   "id": "a5af1a00-8d95-4aaa-9a64-0868f3fb7d3f",
   "metadata": {},
   "outputs": [],
   "source": [
    "#px.box(last_data_temp['Температура'], title='Ящик с усами температуры последнего замера')"
   ]
  },
  {
   "cell_type": "code",
   "execution_count": null,
   "id": "7f819435-0dad-4c4d-9203-4bbe3a6650fc",
   "metadata": {},
   "outputs": [],
   "source": [
    "last_data_temp.describe().T"
   ]
  },
  {
   "cell_type": "markdown",
   "id": "4ef83b06-2f8f-4573-bcb3-bc835ae907c2",
   "metadata": {},
   "source": [
    "##### Выводы после анализа изменения температуры"
   ]
  },
  {
   "cell_type": "markdown",
   "id": "5eba12d8-0981-4572-9637-e07414131634",
   "metadata": {},
   "source": [
    "- Имеется сильно выделяющийся выброс;\n",
    "- Данные достаточно сгруппированы вокруг средней температуры - в районе 1620 градусов;\n",
    "- Показтель последнего замера температуры ещё сильнее сгруппирован возле 1622 градусов."
   ]
  },
  {
   "cell_type": "markdown",
   "id": "c5509afa-d238-4a77-8acf-ed90455b4127",
   "metadata": {},
   "source": [
    "#### Общие выводы исследовательского анализа данных"
   ]
  },
  {
   "cell_type": "markdown",
   "id": "0f8cf168-f535-491e-a7d6-52776bc3497f",
   "metadata": {},
   "source": [
    "- В данных присутствуют выбросы. От сильно выбивающихся стоит избавиться;\n",
    "- Признаки сыпучих материалов могут коррелироваться по принципу \"взаимоисключаемости\";\n",
    "- Подача проволочных материалов проводилась реже;\n",
    "- Можно выделить особые признаки по объёму подачи. Вероятнее всего, они наибоольшим образом влияют на состав сплава;\n",
    "- Информация по газу представлена для каждой партии 1 раз. График распределения имеет нормальную форму со смещенные концом;\n",
    "- Показатель температуры отлично группируется и распределение показывает средний показатель на уровне ~1620 градусов;\n",
    "\n",
    "Стоит провести дополнительный анализ после объединения данных. Это позволит сформировать определённые гипотезы об общем влиянии на сплав, и, возможно, на показатель температуры."
   ]
  },
  {
   "cell_type": "markdown",
   "id": "6d74ff98-0a1c-4049-b24b-06b1ac3f0953",
   "metadata": {},
   "source": [
    "### 2.2. Предобработка данных"
   ]
  },
  {
   "cell_type": "markdown",
   "id": "139210d6-0db3-48bd-ae79-9509c50f4275",
   "metadata": {},
   "source": [
    "#### 2.2.1. Корректировка наимения и проверка пропусков\n",
    "\n",
    "Приведём наименование признаков к общепринятым стандартам там, где это ещё не было сделано"
   ]
  },
  {
   "cell_type": "code",
   "execution_count": null,
   "id": "17058fb2-8911-4e1d-9018-5985926e0aa0",
   "metadata": {},
   "outputs": [],
   "source": [
    "data_gas_new = data_gas_new.rename(columns={'Газ 1': 'gas_volume'})"
   ]
  },
  {
   "cell_type": "code",
   "execution_count": null,
   "id": "f1e692ed-86b8-4f2b-a50c-3bf7c36948fa",
   "metadata": {},
   "outputs": [],
   "source": [
    "#last_data_temp.columns = ['key','time', 'temp']"
   ]
  },
  {
   "cell_type": "markdown",
   "id": "0836b9df-fa46-487f-80f0-fb3c45b9a823",
   "metadata": {},
   "source": [
    "При агрегировании данных пропуски считались за нули. Поэтому дополнительного заполнения данных нулями - не требуется."
   ]
  },
  {
   "cell_type": "code",
   "execution_count": null,
   "id": "57fa0f6f-a890-4214-9547-6bc33b3486f4",
   "metadata": {},
   "outputs": [],
   "source": [
    "data_agg_arc.info()"
   ]
  },
  {
   "cell_type": "code",
   "execution_count": null,
   "id": "aa455886-fd95-4206-ab9f-326f3612b3c3",
   "metadata": {},
   "outputs": [],
   "source": [
    "data_agg_bulk.info()"
   ]
  },
  {
   "cell_type": "code",
   "execution_count": null,
   "id": "7f15d3d8-83ad-4a07-972e-3cf0a8ebdf5d",
   "metadata": {},
   "outputs": [],
   "source": [
    "data_agg_wire.info()"
   ]
  },
  {
   "cell_type": "code",
   "execution_count": null,
   "id": "cbb467db-c143-464b-aee3-5f874723cf16",
   "metadata": {},
   "outputs": [],
   "source": [
    "data_gas_new.info()"
   ]
  },
  {
   "cell_type": "code",
   "execution_count": null,
   "id": "3f3044ba-9964-4579-b2b9-abfdd0419471",
   "metadata": {},
   "outputs": [],
   "source": [
    "last_data_temp.info()"
   ]
  },
  {
   "cell_type": "code",
   "execution_count": null,
   "id": "16fc9274-328d-4e4e-af3d-63f7a1474384",
   "metadata": {},
   "outputs": [],
   "source": [
    "last_data_temp = last_data_temp.query('cnt > 1')"
   ]
  },
  {
   "cell_type": "markdown",
   "id": "380e5ab4-5943-4779-835a-d0b3f6d57a27",
   "metadata": {},
   "source": [
    "#### 2.2.2. Удаление сильных выбросов"
   ]
  },
  {
   "cell_type": "code",
   "execution_count": null,
   "id": "6a4d877d-3c3e-40ec-a04e-c03ed5c3df9a",
   "metadata": {},
   "outputs": [],
   "source": [
    "last_data_temp = last_data_temp.query('temp_last > 1300')"
   ]
  },
  {
   "cell_type": "markdown",
   "id": "babbf9cc-7b7d-442f-8620-79354c037e17",
   "metadata": {},
   "source": [
    "#### Выводы после предобработки данных"
   ]
  },
  {
   "cell_type": "markdown",
   "id": "58218ae4-5102-4031-8d45-83202d4ea7af",
   "metadata": {},
   "source": [
    "- Привели наименование столбцов к удобного виду для дальнейшего взаимодействия;\n",
    "- При агрегировании данных пропуски были считались нулями;\n",
    "- Избавили от сильных выбросов;\n",
    "- Данные готовы к объединению и дальнейшему исследованию."
   ]
  },
  {
   "cell_type": "markdown",
   "id": "717521a3-a741-4228-b102-b8b9151a0e98",
   "metadata": {},
   "source": [
    "### Выводы исследовательского анализа и предобработки данных"
   ]
  },
  {
   "cell_type": "markdown",
   "id": "6ec9ab81-271e-45c1-b536-9d7a29ed96a6",
   "metadata": {},
   "source": [
    "- Изучили распределения данных. Показатели температуры имеют хорошо сгруппированную форму;\n",
    "- Определили, что в данных присутствуют выбросы от которых нужно избавиться и их провели предобработку;\n",
    "- Скорректировали наименование столбцов, приведя их к удобной форме взаимодействия;\n",
    "- Определили, что из показателей времени информативным может быть только временной период воздействия электродами.\n",
    "\n",
    "Данные готовы к дальнейшему объединению и продолжению исследовательского анализа."
   ]
  },
  {
   "cell_type": "markdown",
   "id": "6bcfc7dd-84bf-475a-8d48-ac9a63c4da65",
   "metadata": {},
   "source": [
    "## 3. Объединение данных"
   ]
  },
  {
   "cell_type": "code",
   "execution_count": null,
   "id": "7efc0c33-05c0-498c-8fc1-956d12400d23",
   "metadata": {},
   "outputs": [],
   "source": [
    "merged_data = last_data_temp.copy()\n",
    "merged_data = merged_data.merge(data_agg_arc, on='key', how='inner')\n",
    "merged_data = merged_data.merge(data_agg_bulk, on='key', how='inner')\n",
    "merged_data = merged_data.merge(data_agg_wire, on='key', how='inner')\n",
    "merged_data = merged_data.merge(data_gas_new, on='key', how='inner')"
   ]
  },
  {
   "cell_type": "code",
   "execution_count": null,
   "id": "c1cc1d12-96dc-4ef9-b3ad-fc86834b24e9",
   "metadata": {},
   "outputs": [],
   "source": [
    "merged_data.info()"
   ]
  },
  {
   "cell_type": "code",
   "execution_count": null,
   "id": "49280c14-a2a4-4355-ba6f-604ef3f2955a",
   "metadata": {},
   "outputs": [],
   "source": [
    "#merged_data.fillna(0, inplace=True)"
   ]
  },
  {
   "cell_type": "code",
   "execution_count": null,
   "id": "295742f0-b82a-4c58-81ca-3b940c7ae20b",
   "metadata": {
    "scrolled": true
   },
   "outputs": [],
   "source": [
    "merged_data.info()"
   ]
  },
  {
   "cell_type": "markdown",
   "id": "d47377af-e188-4831-b213-890e23b8b4e8",
   "metadata": {},
   "source": [
    "### Выводы после объединения данных\n",
    "- Все данные соединили между собой. Ключевой таблицей стала таблица температурных данных;\n",
    "- Тип соединения был left join;\n",
    "- Удалили столбец даты;\n",
    "- Заполнили пропуски нулями.\n",
    "\n",
    "Данные готовы к дальнейшему исследовательскому анализу."
   ]
  },
  {
   "cell_type": "code",
   "execution_count": null,
   "id": "a4306fe5",
   "metadata": {},
   "outputs": [],
   "source": [
    "merged_data"
   ]
  },
  {
   "cell_type": "code",
   "execution_count": null,
   "id": "5fc7b302",
   "metadata": {},
   "outputs": [],
   "source": []
  },
  {
   "cell_type": "markdown",
   "id": "2bddcbda-5474-4132-a587-1224eb4cc9c1",
   "metadata": {},
   "source": [
    "## 4. Исследовательский анализ и предобработка данных объединённого датафрейма"
   ]
  },
  {
   "cell_type": "markdown",
   "id": "05599a02-ead0-4858-b61b-e5739fbe192b",
   "metadata": {},
   "source": [
    "### 4.1. Корреляционный анализ"
   ]
  },
  {
   "cell_type": "code",
   "execution_count": null,
   "id": "bc3fb343-6db1-4952-9aae-1ba4f7b0db2e",
   "metadata": {
    "scrolled": true
   },
   "outputs": [],
   "source": [
    "# VIF анализ мультиколлинеарности\n",
    "# добавление константы для перехвата\n",
    "print('Анализ мультиколлинеарности данных')\n",
    "X = add_constant(merged_data.drop('temp_last', axis=1))\n",
    "int_columns = X.select_dtypes(include='number').columns.tolist()\n",
    "# расчет VIF для каждого предиктора\n",
    "VIFs = pd.DataFrame()\n",
    "VIFs['Variable'] = X[int_columns].columns\n",
    "\n",
    "\n",
    "VIFs[\"VIF\"] = [variance_inflation_factor(X[int_columns].values, i)\n",
    "                          for i in range(len(X[int_columns].columns))]\n",
    "\n",
    "print(VIFs)"
   ]
  },
  {
   "cell_type": "markdown",
   "id": "608e1dd9-c302-44f9-bc52-04a8ed3e5466",
   "metadata": {},
   "source": [
    "**inf** говорит о том, что признаки коррелируют между собой. Изучим детальнее матрицу корреляции:"
   ]
  },
  {
   "cell_type": "code",
   "execution_count": null,
   "id": "2f3fd13e-1c43-4ea7-a6cd-7e572ddbd060",
   "metadata": {},
   "outputs": [],
   "source": [
    "# Строим матрицу корреляции признаков тренировочных данных\n",
    "interval_cols = merged_data.select_dtypes(include='number').columns.tolist()\n",
    "phik_overview = phik_matrix(merged_data, interval_cols=interval_cols) \n",
    "\n",
    "plot_correlation_matrix(\n",
    "    phik_overview.values,\n",
    "    x_labels=phik_overview.columns,\n",
    "    y_labels=phik_overview.index,\n",
    "    vmin=0, vmax=1, color_map='Reds',\n",
    "    title=r'Таблица корреляции признаков данных',\n",
    "    fontsize_factor=1.5,\n",
    "    figsize=(30, 25)\n",
    ") \n",
    "plt.show()"
   ]
  },
  {
   "cell_type": "markdown",
   "id": "1385a8b7-ce4a-43ca-9af9-1e2aba9a00f4",
   "metadata": {},
   "source": [
    "#### Выводы после корреляционного анализа"
   ]
  },
  {
   "cell_type": "markdown",
   "id": "750f2f69-ec37-4087-822d-4fb0db47f3bc",
   "metadata": {},
   "source": [
    "Наблюдаем сильную корреляцию между некоторыми признаками. Исследовательский анализ должен раскрыть возможные варианты решения проблемы.\n",
    "На текущий момент можно предложить:\n",
    "- Удаление незначимых признаков;\n",
    "- Формирование новых признаков на основе имеющихся данных;\n",
    "- Детальное изучения данных и формирование гипотез."
   ]
  },
  {
   "cell_type": "markdown",
   "id": "731b9730-7940-4f6e-966e-3bb56e3950de",
   "metadata": {},
   "source": [
    "В дальнейшем исследовательском анализе детальнее стоит обратить внимание на коррелирующие признаки. Составим список пар:\n",
    "\n",
    "- W8 - B8/B9;\n",
    "- W5 - count_heating_time/ total_active_power;\n",
    "- W4 - B2;\n",
    "- B8 - B9;\n",
    "\n",
    "Корреляция между частным признаком и суммарным в данном анализе опущена, так как она весьма объясним влиянием признака на сумму. Также опущено исследование взаимосвязи длительности работы электродов и активная сила, ведь логична их пропорциональная связь.\n",
    "**Под W# записан признак wire(проволочный материал), а под B# - bulk(сыпучий материал).**"
   ]
  },
  {
   "cell_type": "markdown",
   "id": "89c86c9d-d022-4822-a8e6-2a80f8cf8d10",
   "metadata": {},
   "source": [
    "### 4.2. Исследовательский анализ объединённых данных"
   ]
  },
  {
   "cell_type": "code",
   "execution_count": null,
   "id": "28436cb2-9a31-4330-8aa6-f39496b06c29",
   "metadata": {},
   "outputs": [],
   "source": [
    "def scatter_print(data, X, Y):\n",
    "    fig = px.scatter(data, x=X, y=Y, title=f'Диаграмма рассеяния признаков {X} и {Y}')\n",
    "    fig.show()"
   ]
  },
  {
   "cell_type": "code",
   "execution_count": null,
   "id": "50056f75-7eee-48f8-bf66-48fa3c2fb32a",
   "metadata": {},
   "outputs": [],
   "source": [
    "rank = np.linalg.matrix_rank(merged_data.values)\n",
    "print(\"Ранг матрицы признаков:\", rank)\n",
    "print('Количество признаков:', merged_data.shape[1])"
   ]
  },
  {
   "cell_type": "markdown",
   "id": "94b1a09d-16ed-48df-90b1-3d5060b54a4c",
   "metadata": {},
   "source": [
    "Поскольку ранг матрицы ниже числа признаков - есть зависимые столбцы."
   ]
  },
  {
   "cell_type": "code",
   "execution_count": null,
   "id": "d55dfa45-e9cb-4194-8c97-5900ff3260ed",
   "metadata": {},
   "outputs": [],
   "source": [
    "corr_features = [['wire_8_sum', 'bulk_8_sum'],\n",
    "                 ['wire_8_sum', 'bulk_9_sum'],\n",
    "                 ['wire_5_sum', 'count_heating_time'],\n",
    "                 ['wire_5_sum', 'total_active_power'],\n",
    "                 ['wire_4_sum', 'bulk_2_sum'],\n",
    "                 ['bulk_8_sum', 'bulk_9_sum']]"
   ]
  },
  {
   "cell_type": "code",
   "execution_count": null,
   "id": "4aecfbba-d300-48dd-ab31-85921acc3acc",
   "metadata": {
    "scrolled": true
   },
   "outputs": [],
   "source": [
    "for pair_feature in corr_features:\n",
    "    scatter_print(merged_data, X=pair_feature[0], Y=pair_feature[1])"
   ]
  },
  {
   "cell_type": "markdown",
   "id": "e40db824-802c-4469-99e7-505700e5453f",
   "metadata": {},
   "source": [
    "Анализ показал, что высокая корреляция во многом появляется из-за редкого показателя некоторых признаков. Стоит удалить признаки **W5, B8**.\n",
    "\n",
    "**W8 и B9** можно просуммировать, или объединить поскольку они фокусируются в одной точке.\n",
    "Корреляция **W4 и B2** принимает интересную форму. Пока стоит их оставить."
   ]
  },
  {
   "cell_type": "code",
   "execution_count": null,
   "id": "39d94281-2399-41aa-ae3d-09c8af0298b4",
   "metadata": {
    "scrolled": true
   },
   "outputs": [],
   "source": [
    "draw_hist_columns(merged_data, merged_data.drop(columns=['key']).columns)"
   ]
  },
  {
   "cell_type": "markdown",
   "id": "cadbd904-1e26-4d8f-ba51-917febfe4637",
   "metadata": {},
   "source": [
    "Признаки с редкими значениями можно заменить на бинарные и посмотреть - улучшится ли корреляция с целевым признаком. Вряд ли активная и реактивная мощность может оставаться на уровне 0. Такие строки будем считать некорректными, а потому избавимся от них."
   ]
  },
  {
   "cell_type": "markdown",
   "id": "cdb41e58-3fbe-438e-8a21-f50283a279dc",
   "metadata": {},
   "source": [
    "#### Выводы после исследовательского анализа объединённых данных"
   ]
  },
  {
   "cell_type": "markdown",
   "id": "b0058148-6df6-4ec4-9fff-dd5ea660889d",
   "metadata": {},
   "source": [
    "- Для целевой переменной в выбранных признаках нет такого, который бы оказывал значительное влияние. Значит точность предсказания зависит от совокупности признаков;\n",
    "- Много незначимых признаков. От них стоит избавиться;\n",
    "- Сделаем из признаков с редкими показателями - бинарные, и проверим, стоит ли их оставлять в таком виде;\n",
    "- Удалим из датафрейма строки с нулевой активной и реактивной мощью;\n",
    "- Мультиколлинеарность между признаками во многом обусловлена редкими значениями, что делает признаки похожими на константные значения.\n",
    "\n",
    "На этапе предобработки обобщённых данных стоит избавиться от лишних признаков и подготовить датафреймы к обработке."
   ]
  },
  {
   "cell_type": "markdown",
   "id": "d131b692-ecf9-4eee-a9a4-6e68453ec0d8",
   "metadata": {},
   "source": [
    "### 4.3. Предобработка данных"
   ]
  },
  {
   "cell_type": "code",
   "execution_count": null,
   "id": "3a0e43fb-caf2-4804-b897-634db1ee772d",
   "metadata": {},
   "outputs": [],
   "source": [
    "# Удаление выбросов\n",
    "merged_data = merged_data.query('avg_active_power > 0 and avg_reactive_power > 0')"
   ]
  },
  {
   "cell_type": "code",
   "execution_count": null,
   "id": "5f69815a-793f-4e6c-972a-0df14cb1c546",
   "metadata": {
    "scrolled": true
   },
   "outputs": [],
   "source": [
    "# Введём категориальные признаки с редким внесением материалов.\n",
    "'''merged_data['bool_b1'] = np.where(merged_data['bulk_1_sum'] > 0, 1, 0)\n",
    "merged_data['bool_b2'] = np.where(merged_data['bulk_2_sum'] > 0, 1, 0)\n",
    "merged_data['bool_b5'] = np.where(merged_data['bulk_5_sum'] > 0, 1, 0)\n",
    "merged_data['bool_b6'] = np.where(merged_data['bulk_6_sum'] > 0, 1, 0)\n",
    "merged_data['bool_b7'] = np.where(merged_data['bulk_7_sum'] > 0, 1, 0)\n",
    "merged_data['bool_b9'] = np.where(merged_data['bulk_9_sum'] > 0, 1, 0)\n",
    "merged_data['bool_b10'] = np.where(merged_data['bulk_10_sum'] > 0, 1, 0)\n",
    "merged_data['bool_b11'] = np.where(merged_data['bulk_11_sum'] > 0, 1, 0)\n",
    "merged_data['bool_b13'] = np.where(merged_data['bulk_13_sum'] > 0, 1, 0)\n",
    "merged_data['bool_w3'] = np.where(merged_data['wire_3_sum'] > 0, 1, 0)\n",
    "merged_data['bool_w4'] = np.where(merged_data['wire_4_sum'] > 0, 1, 0)\n",
    "merged_data['bool_w5'] = np.where(merged_data['wire_5_sum'] > 0, 1, 0)\n",
    "merged_data['bool_w6'] = np.where(merged_data['wire_6_sum'] > 0, 1, 0)\n",
    "merged_data['bool_w7'] = np.where(merged_data['wire_7_sum'] > 0, 1, 0)\n",
    "merged_data['bool_w8'] = np.where(merged_data['wire_8_sum'] > 0, 1, 0)\n",
    "merged_data['bool_w9'] = np.where(merged_data['wire_9_sum'] > 0, 1, 0)'''"
   ]
  },
  {
   "cell_type": "code",
   "execution_count": null,
   "id": "f944f119-f62e-4ec3-bd4b-ca684a930dfe",
   "metadata": {},
   "outputs": [],
   "source": [
    "# Строим матрицу корреляции признаков данных\n",
    "interval_cols = merged_data.select_dtypes(include='number').columns.tolist()\n",
    "phik_overview = phik_matrix(merged_data, interval_cols=interval_cols) \n",
    "\n",
    "plot_correlation_matrix(\n",
    "    phik_overview.values,\n",
    "    x_labels=phik_overview.columns,\n",
    "    y_labels=phik_overview.index,\n",
    "    vmin=0, vmax=1, color_map='Reds',\n",
    "    title=r'Таблица корреляции признаков данных',\n",
    "    fontsize_factor=1.5,\n",
    "    figsize=(40, 35)\n",
    ") \n",
    "plt.show()"
   ]
  },
  {
   "cell_type": "markdown",
   "id": "54daf6be-4eef-4dba-9bc9-538968f00abc",
   "metadata": {},
   "source": [
    "Удаляем признаки с низкой корреляцией по целевому признаку."
   ]
  },
  {
   "cell_type": "code",
   "execution_count": null,
   "id": "6c138309-c6ac-4e70-9e6b-84a6f79bb983",
   "metadata": {},
   "outputs": [],
   "source": [
    "merged_data_1 = merged_data.copy()\n",
    "#merged_data_1['max_w8_b8_b9'] = merged_data[['wire_8_sum','bulk_8_sum','bulk_9_sum']].max(axis=1)\n",
    "#merged_data_1['max_w8_b9'] = merged_data[['wire_8_sum','bulk_9_sum']].max(axis=1)\n",
    "#merged_data_1['sum_w4_b2'] = merged_data[['bulk_2_sum','wire_4_sum']].sum(axis=1)\n",
    "#merged_data_1['max_b8_b9'] = merged_data[['bulk_8_sum','bulk_9_sum']].max(axis=1)\n",
    "merged_data_1.drop(columns=['total_reactive_power', 'avg_reactive_power', \n",
    "                                        'avg_active_power', 'count_heating_time', 'max_heating_time'], inplace=True)"
   ]
  },
  {
   "cell_type": "code",
   "execution_count": null,
   "id": "eeea5ff8-8d80-459c-a19d-f3fd8cdb42ba",
   "metadata": {},
   "outputs": [],
   "source": [
    "merged_data_1.drop(columns=['bulk_8_sum', 'bulk_10_sum', 'bulk_13_sum','bulk_3_sum',\n",
    "                           'wire_5_sum', 'wire_9_sum','wire_8_sum','wire_1_sum'], inplace=True)"
   ]
  },
  {
   "cell_type": "code",
   "execution_count": null,
   "id": "f37b17a8-e40d-49e6-93f8-2d39b97db663",
   "metadata": {},
   "outputs": [],
   "source": [
    "#merged_data_1.drop(columns=['bulk_12_sum', 'bulk_15_sum'], inplace=True)"
   ]
  },
  {
   "cell_type": "code",
   "execution_count": null,
   "id": "f318d45f-f521-458b-be0a-fa9ba17d1a25",
   "metadata": {},
   "outputs": [],
   "source": [
    "# Строим матрицу корреляции признаков тренировочных данных\n",
    "interval_cols = merged_data_1.select_dtypes(include='number').columns.tolist()\n",
    "phik_overview = phik_matrix(merged_data_1, interval_cols=interval_cols) \n",
    "\n",
    "plot_correlation_matrix(\n",
    "    phik_overview.values,\n",
    "    x_labels=phik_overview.columns,\n",
    "    y_labels=phik_overview.index,\n",
    "    vmin=0, vmax=1, color_map='Reds',\n",
    "    title=r'Таблица корреляции признаков данных',\n",
    "    fontsize_factor=1.5,\n",
    "    figsize=(30, 25)\n",
    ") \n",
    "plt.show()"
   ]
  },
  {
   "cell_type": "markdown",
   "id": "b0abf0a1-93f7-42d2-a554-035dea6f2a3b",
   "metadata": {},
   "source": [
    "Коррелирующие бинарные признаки объединим между собой"
   ]
  },
  {
   "cell_type": "code",
   "execution_count": null,
   "id": "bd91a13d-acc5-4aed-a03e-f9ea63daf1fa",
   "metadata": {},
   "outputs": [],
   "source": [
    "'''merged_data_1['bool_w7_b7_b2_w4'] = merged_data[['bool_w7','bool_b7', 'bool_b2', 'bool_w4']].max(axis=1)\n",
    "merged_data_1.drop(columns=['bool_w7', 'bool_b7','bool_b2', 'bool_w4'], inplace=True)'''\n",
    "#merged_data_1['bool_w4_b7'] = merged_data[['bool_w7','bool_b7', 'bool_b2']].max(axis=1)"
   ]
  },
  {
   "cell_type": "code",
   "execution_count": null,
   "id": "19892001-6cc5-4948-8d5f-5bcc955e04a1",
   "metadata": {},
   "outputs": [],
   "source": [
    "# Строим матрицу корреляции признаков тренировочных данных\n",
    "interval_cols = merged_data_1.select_dtypes(include='number').columns.tolist()\n",
    "phik_overview = phik_matrix(merged_data_1, interval_cols=interval_cols) \n",
    "\n",
    "plot_correlation_matrix(\n",
    "    phik_overview.values,\n",
    "    x_labels=phik_overview.columns,\n",
    "    y_labels=phik_overview.index,\n",
    "    vmin=0, vmax=1, color_map='Reds',\n",
    "    title=r'Таблица корреляции признаков данных',\n",
    "    fontsize_factor=1.5,\n",
    "    figsize=(30, 25)\n",
    ") \n",
    "plt.show()"
   ]
  },
  {
   "cell_type": "code",
   "execution_count": null,
   "id": "4cdaead8-6ce5-4a3d-bf3f-8d4a77380292",
   "metadata": {},
   "outputs": [],
   "source": [
    "#merged_data_1.drop(columns=['bool_b10','bool_b5', 'bool_b11', 'total_active_power'], inplace=True)"
   ]
  },
  {
   "cell_type": "markdown",
   "id": "1b96079d-8b12-40a2-818a-fe6cf1e54478",
   "metadata": {},
   "source": [
    "#### Выводы после предобработки данных объединённого датафрейма"
   ]
  },
  {
   "cell_type": "markdown",
   "id": "2c33e5d3-33c9-4071-9669-3268158730e4",
   "metadata": {},
   "source": [
    "На основе результатов корреляционного и исследовательского анализа данных было принято решение о создании некоторых новых признаков и удалении незначимых. Это позволило уменьшить объём необходимой модели информации, а также подчеркнуть важность оставшихся признаков. Данные готовы к дальнейшему разделению на выборки."
   ]
  },
  {
   "cell_type": "markdown",
   "id": "0afdc1f3-8aed-4280-adc6-0a8eb661190a",
   "metadata": {},
   "source": [
    "### Выводы исследовательского анализа и предобработки данных объединённого датафрейма"
   ]
  },
  {
   "cell_type": "markdown",
   "id": "99ed581f-3bf4-4912-9113-19ef4d9c540c",
   "metadata": {},
   "source": [
    "После выполнения исследовательского анализа данных и предобработки мы имеем:\n",
    "- Очищенные от незначащих признаков данные;\n",
    "- Новые категориальные и численные признаки, полученные на основе исходных данных;\n",
    "- Сведённая к минимуму мультиколлинеарность в данных;\n",
    "\n",
    "Данные готовы к дальнейшему разделению на тренировочную и тестовую выборки."
   ]
  },
  {
   "cell_type": "code",
   "execution_count": null,
   "id": "3132a716",
   "metadata": {},
   "outputs": [],
   "source": [
    "merged_data_1"
   ]
  },
  {
   "cell_type": "code",
   "execution_count": null,
   "id": "032aea0d",
   "metadata": {},
   "outputs": [],
   "source": []
  },
  {
   "cell_type": "markdown",
   "id": "5a82f1c4-dbe7-4088-8589-a879442ea2ac",
   "metadata": {},
   "source": [
    "## 5. Подготовка данных"
   ]
  },
  {
   "cell_type": "code",
   "execution_count": null,
   "id": "d844a1ef-e08a-483e-980e-6cf53bb835fc",
   "metadata": {},
   "outputs": [],
   "source": [
    "# Разделение на признаки и целевую переменную\n",
    "X = merged_data_1.drop(['key', 'temp_last'], axis=1)\n",
    "y = merged_data_1['temp_last']\n",
    "\n",
    "# Разделение на обучающую и тестовую выборки\n",
    "X_train, X_test, y_train, y_test = train_test_split(X, y, test_size=0.25, random_state=42)"
   ]
  },
  {
   "cell_type": "code",
   "execution_count": null,
   "id": "dc422b22-6681-44f0-ae7e-50913848e12b",
   "metadata": {},
   "outputs": [],
   "source": [
    "# Cоздаём общий пайплайн для подготовки данных. Удобно на случай добавления категориальных признаков\n",
    "preprocessor = ColumnTransformer(\n",
    "    [\n",
    "     ('num', StandardScaler(), X.columns)\n",
    "    ], \n",
    "    remainder='passthrough'\n",
    ")"
   ]
  },
  {
   "cell_type": "code",
   "execution_count": null,
   "id": "0d40376f-455a-4f59-a71a-a0081817d9ce",
   "metadata": {},
   "outputs": [],
   "source": [
    "# Создание пайплайнов для каждой модели\n",
    "pipelines = {\n",
    "    'LinearRegression': Pipeline([\n",
    "        ('preprocessor', preprocessor),\n",
    "        ('model', LinearRegression())\n",
    "    ]),\n",
    "    'Ridge': Pipeline([\n",
    "        ('preprocessor', preprocessor),\n",
    "        ('model', Ridge(random_state=42))\n",
    "    ]),\n",
    "    'DecisionTree': Pipeline([\n",
    "        ('preprocessor', preprocessor),\n",
    "        ('model', DecisionTreeRegressor(random_state=RANDOM_STATE))\n",
    "    ]),\n",
    "    'RandomForest': Pipeline([\n",
    "        ('preprocessor', preprocessor),\n",
    "        ('model', RandomForestRegressor(random_state=RANDOM_STATE))\n",
    "    ]),\n",
    "    'CatBoost': Pipeline([\n",
    "        ('preprocessor', preprocessor),\n",
    "        ('model', CatBoostRegressor(random_state=42, verbose=0, l2_leaf_reg=5, iterations=750))\n",
    "    ])\n",
    "}"
   ]
  },
  {
   "cell_type": "code",
   "execution_count": null,
   "id": "8a1ad1c2-c599-49af-bb5d-b88ba25269f5",
   "metadata": {},
   "outputs": [],
   "source": [
    "# Параметры для RandomizedSearchCV\n",
    "param_distributions = {\n",
    "    'LinearRegression': {\n",
    "        'preprocessor__num': [StandardScaler(), MinMaxScaler(), RobustScaler(), 'passthrough']\n",
    "    },\n",
    "    'Ridge': {\n",
    "        'model__alpha': loguniform(1e-3, 1e3),\n",
    "        'model__solver': ['auto', 'svd', 'cholesky', 'lsqr', 'sparse_cg', 'sag', 'saga'],\n",
    "        'preprocessor__num': [StandardScaler(), MinMaxScaler(), RobustScaler(), 'passthrough']\n",
    "    },\n",
    "    'DecisionTree': {\n",
    "        'model__max_depth': range(2,10),\n",
    "        'model__max_features': range(2,12+1),\n",
    "        'model__min_samples_split': range(2,10),\n",
    "        'model__min_samples_leaf':range(2,10),\n",
    "        'preprocessor__num': [StandardScaler(), MinMaxScaler(), RobustScaler(), 'passthrough']  \n",
    "    },\n",
    "    'RandomForest': {\n",
    "        'model__n_estimators': range(100, 500, 50),\n",
    "        'model__max_depth': [None] + list(np.arange(5, 30, 5)),\n",
    "        'model__min_samples_split': range(2, 20),\n",
    "        'model__min_samples_leaf': range(2,10),\n",
    "        'preprocessor__num': [StandardScaler(), MinMaxScaler(), RobustScaler(), 'passthrough']\n",
    "    },\n",
    "    'CatBoost':{\n",
    "        'model__depth': [4, 6, 8],\n",
    "        'model__l2_leaf_reg': [1, 3, 5, 7, 20, 50],  # Параметр L2-регуляризации\n",
    "        'model__learning_rate': [0.01, 0.1, 0.2]\n",
    "    }\n",
    "}"
   ]
  },
  {
   "cell_type": "markdown",
   "id": "5de5376f-0378-420c-a524-81fd0f4c8f7a",
   "metadata": {},
   "source": [
    "### Выводы подготовки данных"
   ]
  },
  {
   "cell_type": "markdown",
   "id": "56746b53-e243-4544-9a91-96f302d9dcb7",
   "metadata": {},
   "source": [
    "- Разделили данные на тренировочную и тестовую выборки;\n",
    "- Определили пайплайны для каждой модели(Linear, DecisionTree, RandomForest, CatBoost);\n",
    "- Определили вариативность гиперпараметров для подбора в RandomizedSearchCV.\n",
    "\n",
    "Данные были разделены на соответствующие выборки. Подготовлены разные модели с учётом подбора лучших параметров. Можно переходить к обучению."
   ]
  },
  {
   "cell_type": "markdown",
   "id": "ea715bf3-87bb-413d-89d9-ae570681ea50",
   "metadata": {},
   "source": [
    "## 6. Обучение моделей"
   ]
  },
  {
   "cell_type": "code",
   "execution_count": null,
   "id": "cdc53c7e-a671-40ca-b497-a178211c6974",
   "metadata": {},
   "outputs": [],
   "source": [
    "# Создание датафрейма для результатов\n",
    "results_df = pd.DataFrame(columns=[\n",
    "    'Model', 'Best Params', 'CV MAE', 'Train Time (s)'\n",
    "])"
   ]
  },
  {
   "cell_type": "code",
   "execution_count": null,
   "id": "3ee035ad-cdfc-498b-a0a3-207b73e537f5",
   "metadata": {},
   "outputs": [],
   "source": [
    "# Обучение и оптимизация моделей\n",
    "best_models = {}"
   ]
  },
  {
   "cell_type": "code",
   "execution_count": null,
   "id": "1c69026e-20eb-4998-9099-20c9a9c538d2",
   "metadata": {
    "scrolled": true
   },
   "outputs": [],
   "source": [
    "# Цикличное обучение всех моделей с использованием RandomizedSearchCV\n",
    "for model_name in pipelines:\n",
    "    print()\n",
    "    print(f\"=== Оптимизация {model_name} ===\")\n",
    "    \n",
    "    start_time = time.time()\n",
    "    \n",
    "    # RandomizedSearchCV\n",
    "    search = RandomizedSearchCV(\n",
    "        estimator=pipelines[model_name],\n",
    "        param_distributions=param_distributions[model_name],\n",
    "        n_iter=50,\n",
    "        cv=5,\n",
    "        scoring='neg_mean_absolute_error',\n",
    "        random_state=RANDOM_STATE,\n",
    "        n_jobs=-1\n",
    "    )\n",
    "    \n",
    "    search.fit(X_train, y_train)\n",
    "    train_time = time.time() - start_time\n",
    "    \n",
    "    # Сохранение лучшей модели\n",
    "    best_models[model_name] = search.best_estimator_\n",
    "\n",
    "    # Оценка лучшей модели\n",
    "    score = search.best_score_\n",
    "    \n",
    "    \n",
    "    # Добавление результатов в датафрейм\n",
    "    results_df = pd.concat([results_df, pd.DataFrame([{\n",
    "        'Model': model_name,\n",
    "        'Best Params': str(search.best_params_),\n",
    "        'CV MAE': -score,\n",
    "        'Train Time (s)': train_time\n",
    "    }])], ignore_index=True)\n",
    "    \n",
    "    print(f\"Время обучения: {train_time:.2f} сек\")\n",
    "    print(f\"Лучшие параметры: {search.best_params_}\")\n",
    "    print(f\"MAE на кросс-валидации: {-score.mean():.4f}\")\n",
    "\n",
    "# Сортировка результатов по MAE\n",
    "results_df = results_df.sort_values('CV MAE')"
   ]
  },
  {
   "cell_type": "markdown",
   "id": "15be5cd3-16f7-4926-8c74-8f5184703059",
   "metadata": {},
   "source": [
    "### Выводы обучения моделей"
   ]
  },
  {
   "cell_type": "markdown",
   "id": "62e9dfb6-3fff-479e-867b-5fad16b14edf",
   "metadata": {},
   "source": [
    "- Для каждой доступной модели МО были подобраны лучшие гиперпараметры;\n",
    "- Модель DecisionTree показала лучшую скорость обучения и при этом неплохой результат;\n",
    "- Лучший результат метрики был достигнут у CatBoost. MAE = 6.2 при кросс-валидации.\n",
    "\n",
    "Далее предстоит отбор лучших признаков для модели показавшей наилучший результат. В случае успешного подбора признаков модель улучшит показатель метрики качества и при этом станет проще."
   ]
  },
  {
   "cell_type": "code",
   "execution_count": null,
   "id": "a8eb3d9b",
   "metadata": {},
   "outputs": [],
   "source": []
  },
  {
   "cell_type": "markdown",
   "id": "8067b9bf-6928-46fc-a5f2-657cf7f1c8de",
   "metadata": {},
   "source": [
    "## 7. Выбор лучшей модели"
   ]
  },
  {
   "cell_type": "code",
   "execution_count": null,
   "id": "90962625-ee47-4582-8c16-079db86f54af",
   "metadata": {},
   "outputs": [],
   "source": [
    "# Выбор лучшей модели\n",
    "best_model_name = results_df.iloc[0]['Model']\n",
    "best_model = best_models[best_model_name]\n",
    "print(f\"Лучшая модель: {best_model_name} с CV MAE = {results_df.iloc[0]['CV MAE']:.4f}\")"
   ]
  },
  {
   "cell_type": "code",
   "execution_count": null,
   "id": "48a62b93-462b-4085-bd1a-6b52eb0266cf",
   "metadata": {
    "scrolled": true
   },
   "outputs": [],
   "source": [
    "pipe_full_final = Pipeline([\n",
    "    ('preprocessor', preprocessor),\n",
    "    ('selector', SelectKBest(f_regression, k=2)),\n",
    "    ('models', best_model['model'])\n",
    "])\n",
    "param_selector= {\n",
    "    'selector__k': range(2,len(best_model['preprocessor'].get_feature_names_out())+1),\n",
    "    'preprocessor__num':[StandardScaler(), MinMaxScaler(), RobustScaler()] \n",
    "} \n",
    "select = GridSearchCV(\n",
    "    pipe_full_final, \n",
    "    param_selector, \n",
    "    cv=5,\n",
    "    scoring= 'neg_mean_absolute_error',\n",
    "    n_jobs=-1\n",
    ")\n",
    "select.fit(X_train, y_train)"
   ]
  },
  {
   "cell_type": "code",
   "execution_count": null,
   "id": "02826ab7-5f68-4a74-b9fd-61d76c8579c6",
   "metadata": {},
   "outputs": [],
   "source": [
    "print('Лучшая модель и её параметры:\\n\\n', select.best_estimator_)\n",
    "print (f'Метрика лучшей модели на кросс-валидации: {-select.best_score_:.4f}')"
   ]
  },
  {
   "cell_type": "code",
   "execution_count": null,
   "id": "2e0c1226",
   "metadata": {},
   "outputs": [],
   "source": []
  },
  {
   "cell_type": "code",
   "execution_count": null,
   "id": "add19a92-8c73-401b-a3d7-ec70f8bafa93",
   "metadata": {},
   "outputs": [],
   "source": [
    "if len(select.best_estimator_['selector'].get_feature_names_out()) < len(best_model['preprocessor'].get_feature_names_out()):\n",
    "    print(\"Признаков стало меньше! Их число равно - \", len(select.best_estimator_['selector'].get_feature_names_out()))\n",
    "else:\n",
    "    print('Число признаков осталось без изменений. Их число равно - ', len(select.best_estimator_['selector'].get_feature_names_out()))"
   ]
  },
  {
   "cell_type": "code",
   "execution_count": null,
   "id": "bfb63d52",
   "metadata": {},
   "outputs": [],
   "source": []
  },
  {
   "cell_type": "code",
   "execution_count": null,
   "id": "69ebb3c5-7b39-495b-9b72-a2d977899373",
   "metadata": {},
   "outputs": [],
   "source": [
    "y_pred = select.predict(X_test)\n",
    "y_best_test = mean_absolute_error(y_test, y_pred)\n",
    "print('Результат лучшей модели на тестовой выборке', y_best_test)"
   ]
  },
  {
   "cell_type": "code",
   "execution_count": null,
   "id": "58aa737d-d047-4279-a8f9-cdbb3ce9d06f",
   "metadata": {},
   "outputs": [],
   "source": [
    "dummy_regr = DummyRegressor(strategy=\"mean\")\n",
    "\n",
    "dummy_regr.fit(X_train, y_train)\n",
    "\n",
    "y_pred_dummy = dummy_regr.predict(X_test)\n",
    "\n",
    "metric_test_dummy = mean_absolute_error(y_pred_dummy, y_test)\n",
    "print('Результат проверочной модели на тестовой выборке', metric_test_dummy)\n"
   ]
  },
  {
   "cell_type": "code",
   "execution_count": null,
   "id": "65b59062-1650-470c-b549-9ca5fcd38600",
   "metadata": {},
   "outputs": [],
   "source": [
    "# Извлекаем лучшую модель и препроцессор\n",
    "best_model = select.best_estimator_.named_steps['models']\n",
    "preprocessor = select.best_estimator_.named_steps['preprocessor']\n",
    "selector = select.best_estimator_.named_steps['selector']\n",
    "\n",
    "# Преобразуем данные с помощью препроцессора\n",
    "X_train_transformed = preprocessor.transform(X_train)\n",
    "name_columns = preprocessor.get_feature_names_out()\n",
    "\n",
    "X_train_transformed = pd.DataFrame(X_train_transformed, columns=name_columns)\n",
    "\n",
    "\n",
    "features_names = X_train_transformed.columns[selector.get_support(indices=True)]\n",
    "\n",
    "X_train_transformed = X_train_transformed[list(features_names)]\n",
    "# Создаём объяснитель SHAP для линейной модели\n",
    "explainer = shap.TreeExplainer(best_model, X_train_transformed, feature_perturbation=\"interventional\")\n",
    "\n",
    "# Рассчитываем значения SHAP для обучающих данных\n",
    "shap_values = explainer.shap_values(X_train_transformed,check_additivity=False)\n",
    "\n",
    "# Получаем имена признаков после преобразования\n",
    "feature_names = preprocessor.get_feature_names_out()\n",
    "\n",
    "# Визуализируем вклад признаков\n",
    "shap.summary_plot(\n",
    "    shap_values, \n",
    "    X_train_transformed, \n",
    "    plot_type=\"dot\", \n",
    "    max_display=30, \n",
    "    plot_size=(15, 15),\n",
    "    show=False\n",
    ")\n",
    "plt.rcParams['axes.titlesize'] = 22\n",
    "plt.rcParams['axes.labelsize'] = 15\n",
    "plt.title('График анализа важности признаков')\n",
    "plt.ylabel('Признаки модели')\n",
    "plt.show()\n"
   ]
  },
  {
   "cell_type": "markdown",
   "id": "51850cc4-1f20-4994-8500-9647585e6ed4",
   "metadata": {},
   "source": [
    "### Выводы выбора лучшей модели"
   ]
  },
  {
   "cell_type": "markdown",
   "id": "0d747e73-b491-426c-bf9d-061886564879",
   "metadata": {},
   "source": [
    "- Отбор лучших признаков показал, что необходимости в уменьшении признаков - нет;\n",
    "- Проверка модели на адекватность показал, что модель справляется лучше, чем dummy-модель предсказывающая среднее;\n",
    "- shap-график важности признаков демонстрирует, что наиболее значимыми признаками выступают - длительность воздействия электродами, первая температура, а также персональные объёмы некоторых материалов, например w2, b6, b15\n",
    "- Стоит обратить внимание на форму графиков. Изменение объёма немонотонно влияет на показатель температуры.\n",
    "\n",
    "Подводя итог, можно сказать, что была разработана модель МО на основе CatBoost, со средней абсолютной ошибкой в районе 6.2 единиц."
   ]
  },
  {
   "cell_type": "markdown",
   "id": "3bfcfc0f-f4bc-435d-bf2b-f4d8e3b9e56f",
   "metadata": {},
   "source": [
    "## 8. Общий вывод и рекомендации заказчику"
   ]
  },
  {
   "cell_type": "markdown",
   "id": "9b0722ae-9ac8-4ccb-b709-ced12942e957",
   "metadata": {},
   "source": [
    "### Вывод по проделанной работе\n",
    "В данной работе велась разработка модели МО предсказывающую температуру сплава после добавления в него различных веществ.\n",
    "В ходе работы было сделано:\n",
    "1) Успешно загружены и изучены предоставлены данные:\n",
    "   - Загружены 6 таблиц, изучены входные данные на наличие пропусков;\n",
    "   - Изучили наименования, типы данных, а также выполнен первичный обзор распределений.\n",
    "2) Проведён исследовательский анализ и предобработка данных:\n",
    "   - Определены типы распределений, наличие выбросов;\n",
    "   - Отобраны основные таблицы данных. Отказались от таблиц времени подачи материалов;\n",
    "   - Изменили наименование столбцов, провели агрегирование данных и ввели несколько новых признаков - суммы показателей.\n",
    "3) Выполнили объединение данных:\n",
    "   - Совместили отобранные таблицы;\n",
    "   - Основной таблицей выбрали таблицу температурных сведений. Использование LEFT JOIN тип соединения.\n",
    "4) Повторили исследовательский анализ и предобработку объединённых данных:\n",
    "   - Выполнили корреляционный анализ данных, а также VIF-анализ на мультиколлинеарность данных;\n",
    "   - Определили, что признаки с редкими значениями сильно коррелируют между собой;\n",
    "   - Выявили незначимые признаки для целевой переменной;\n",
    "   - Провели исследовательский анализ. Изучили гистограммы на наличие выбросов, а также проверили диаграммы рассения подозрительных признаков;\n",
    "   - Ввели новые бинарные признаки на основе имеющихся;\n",
    "   - Провели повторный корреляционный анализ в несколько этапов. Отобрали признаки с достаточным уровнем влияния не целевую переменную.\n",
    "5) Подготовили данные для обучения:\n",
    "   - Разделили данные на тренировочную и тестовые выборки;\n",
    "   - Подготовили пайплайны для моделей машинного обучения(Linear, Ridge, RandomForest, DTree и CatBoost);\n",
    "   - Создали словарь подбора гиперпараметров.\n",
    "6) Обучили модели машинного обучения:\n",
    "   - Используя RandomizedSearchCV, определили лучшие гиперпараметры для каждой модели. Засекли время обучения;\n",
    "   - Результаты обучения сохранили в датафреймы и соответсвующие переменные.\n",
    "7) Выбрали лучшую модель:\n",
    "   - Провели цикличный анализ важности признаков через SelectKBest;\n",
    "   - Выполнили анализ модели на адекватность используя DummyRegressor, предсказывающий среднее;\n",
    "   - Построили график shap-значенили и выделили основные признаки.\n",
    "\n",
    "Подводя итог, можно отметить, что была проделана большая работа, результатом которой стала модель, способная достаточно точно предсказывать показатель температуры сплава. Этот результат позволит предприятию экономить."
   ]
  },
  {
   "cell_type": "markdown",
   "id": "91f10b45-e670-4038-9fdf-95344ba7451d",
   "metadata": {},
   "source": [
    "### Рекомендации заказчику\n",
    "- Качество предсказаний модели можно будет улучшить предоставив дополнительные данные, например - хранении информации о периодах простоя, о концентрации веществ в исходном сплаве и объёме подаваемого начального сплава.\n",
    "- Обратить внимание на объёмы подаваемых материалов. Особенно - wire 1, bulk 15, wire 2 и bulk 6. Низкие объёмы или отсутствие материалов сказывается негативно на температуре - она повышается. Данные материалы наибольшим образом влияют на этот показатель."
   ]
  },
  {
   "cell_type": "markdown",
   "id": "8dfe0258-37b8-4ff1-9866-6ce5e76afe7c",
   "metadata": {},
   "source": [
    "<div class=\"alert\" style=\"border-color: darkblue; border-radius: 5px\">\n",
    "    <p><u><b># КОММЕНТАРИЙ СТУДЕНТА</b></u></p>\n",
    "    <p>Постарался учесть все замечания и рекомендации. Метрика получилась значительно лучше.</p>\n",
    "</div>"
   ]
  },
  {
   "cell_type": "code",
   "execution_count": null,
   "id": "da99d7f7",
   "metadata": {},
   "outputs": [],
   "source": []
  }
 ],
 "metadata": {
  "ExecuteTimeLog": [
   {
    "duration": 30356,
    "start_time": "2025-05-15T07:21:57.913Z"
   },
   {
    "duration": 5628,
    "start_time": "2025-05-15T07:22:28.273Z"
   },
   {
    "duration": 41,
    "start_time": "2025-05-15T07:22:33.903Z"
   },
   {
    "duration": 4,
    "start_time": "2025-05-15T07:22:33.947Z"
   },
   {
    "duration": 152,
    "start_time": "2025-05-15T07:23:49.233Z"
   },
   {
    "duration": 18,
    "start_time": "2025-05-15T07:23:50.649Z"
   },
   {
    "duration": 328,
    "start_time": "2025-05-15T07:23:51.211Z"
   },
   {
    "duration": 13,
    "start_time": "2025-05-15T07:23:51.760Z"
   },
   {
    "duration": 10,
    "start_time": "2025-05-15T07:23:58.118Z"
   },
   {
    "duration": 122,
    "start_time": "2025-05-15T07:26:01.304Z"
   },
   {
    "duration": 13,
    "start_time": "2025-05-15T07:26:06.358Z"
   },
   {
    "duration": 208,
    "start_time": "2025-05-15T07:26:07.533Z"
   },
   {
    "duration": 259,
    "start_time": "2025-05-15T07:26:08.503Z"
   },
   {
    "duration": 12,
    "start_time": "2025-05-15T07:26:09.765Z"
   },
   {
    "duration": 71,
    "start_time": "2025-05-15T07:28:11.794Z"
   },
   {
    "duration": 219,
    "start_time": "2025-05-15T07:28:12.509Z"
   },
   {
    "duration": 12,
    "start_time": "2025-05-15T07:28:13.317Z"
   },
   {
    "duration": 130,
    "start_time": "2025-05-15T07:28:53.643Z"
   },
   {
    "duration": 251,
    "start_time": "2025-05-15T07:28:54.167Z"
   },
   {
    "duration": 20,
    "start_time": "2025-05-15T07:28:54.728Z"
   },
   {
    "duration": 61,
    "start_time": "2025-05-15T07:29:34.223Z"
   },
   {
    "duration": 254,
    "start_time": "2025-05-15T07:29:34.829Z"
   },
   {
    "duration": 21,
    "start_time": "2025-05-15T07:29:35.438Z"
   },
   {
    "duration": 128,
    "start_time": "2025-05-15T07:29:35.752Z"
   },
   {
    "duration": 241,
    "start_time": "2025-05-15T07:29:36.798Z"
   },
   {
    "duration": 13,
    "start_time": "2025-05-15T07:29:37.462Z"
   },
   {
    "duration": 3,
    "start_time": "2025-05-15T07:31:15.783Z"
   },
   {
    "duration": 3,
    "start_time": "2025-05-15T07:31:16.474Z"
   },
   {
    "duration": 6,
    "start_time": "2025-05-15T07:31:24.613Z"
   },
   {
    "duration": 14,
    "start_time": "2025-05-15T07:31:25.287Z"
   },
   {
    "duration": 46,
    "start_time": "2025-05-15T07:31:26.032Z"
   },
   {
    "duration": 789,
    "start_time": "2025-05-15T07:31:26.702Z"
   },
   {
    "duration": 506,
    "start_time": "2025-05-15T07:31:27.970Z"
   },
   {
    "duration": 15,
    "start_time": "2025-05-15T07:32:31.444Z"
   },
   {
    "duration": 192,
    "start_time": "2025-05-15T07:32:33.411Z"
   },
   {
    "duration": 982,
    "start_time": "2025-05-15T07:32:33.604Z"
   },
   {
    "duration": 66,
    "start_time": "2025-05-15T07:32:46.701Z"
   },
   {
    "duration": 566,
    "start_time": "2025-05-15T07:32:49.847Z"
   },
   {
    "duration": 12,
    "start_time": "2025-05-15T07:32:51.234Z"
   },
   {
    "duration": 395,
    "start_time": "2025-05-15T07:32:52.422Z"
   },
   {
    "duration": 170,
    "start_time": "2025-05-15T07:37:37.192Z"
   },
   {
    "duration": 435,
    "start_time": "2025-05-15T07:37:51.184Z"
   },
   {
    "duration": 919,
    "start_time": "2025-05-15T07:38:53.502Z"
   },
   {
    "duration": 9,
    "start_time": "2025-05-15T07:39:24.609Z"
   },
   {
    "duration": 144,
    "start_time": "2025-05-15T07:39:25.531Z"
   },
   {
    "duration": 503,
    "start_time": "2025-05-15T07:39:29.521Z"
   },
   {
    "duration": 40,
    "start_time": "2025-05-15T07:39:39.613Z"
   },
   {
    "duration": 429,
    "start_time": "2025-05-15T07:39:40.184Z"
   },
   {
    "duration": 8,
    "start_time": "2025-05-15T07:39:42.002Z"
   },
   {
    "duration": 301,
    "start_time": "2025-05-15T07:39:43.372Z"
   },
   {
    "duration": 68,
    "start_time": "2025-05-15T07:40:24.568Z"
   },
   {
    "duration": 83,
    "start_time": "2025-05-15T07:40:25.159Z"
   },
   {
    "duration": 20,
    "start_time": "2025-05-15T07:40:25.300Z"
   },
   {
    "duration": 21,
    "start_time": "2025-05-15T07:40:58.482Z"
   },
   {
    "duration": 21,
    "start_time": "2025-05-15T07:41:03.671Z"
   },
   {
    "duration": 76,
    "start_time": "2025-05-15T07:41:03.695Z"
   },
   {
    "duration": 103,
    "start_time": "2025-05-15T07:41:03.773Z"
   },
   {
    "duration": 8,
    "start_time": "2025-05-15T07:41:03.878Z"
   },
   {
    "duration": 96,
    "start_time": "2025-05-15T07:41:03.889Z"
   },
   {
    "duration": 95,
    "start_time": "2025-05-15T07:41:03.987Z"
   },
   {
    "duration": 56,
    "start_time": "2025-05-15T07:41:04.084Z"
   },
   {
    "duration": 5,
    "start_time": "2025-05-15T07:41:43.241Z"
   },
   {
    "duration": 3,
    "start_time": "2025-05-15T07:41:44.017Z"
   },
   {
    "duration": 11,
    "start_time": "2025-05-15T07:41:50.515Z"
   },
   {
    "duration": 44,
    "start_time": "2025-05-15T07:41:50.527Z"
   },
   {
    "duration": 29,
    "start_time": "2025-05-15T07:41:50.573Z"
   },
   {
    "duration": 28,
    "start_time": "2025-05-15T07:41:50.604Z"
   },
   {
    "duration": 37,
    "start_time": "2025-05-15T07:41:50.634Z"
   },
   {
    "duration": 41,
    "start_time": "2025-05-15T07:41:50.673Z"
   },
   {
    "duration": 37,
    "start_time": "2025-05-15T07:41:50.716Z"
   },
   {
    "duration": 21,
    "start_time": "2025-05-15T07:41:50.756Z"
   },
   {
    "duration": 54,
    "start_time": "2025-05-15T07:41:50.779Z"
   },
   {
    "duration": 39,
    "start_time": "2025-05-15T07:41:50.834Z"
   },
   {
    "duration": 23,
    "start_time": "2025-05-15T07:43:56.460Z"
   },
   {
    "duration": 8,
    "start_time": "2025-05-15T07:43:57.238Z"
   },
   {
    "duration": 12,
    "start_time": "2025-05-15T07:43:57.781Z"
   },
   {
    "duration": 35,
    "start_time": "2025-05-15T07:46:07.353Z"
   },
   {
    "duration": 7272,
    "start_time": "2025-05-15T07:46:19.073Z"
   },
   {
    "duration": 12104,
    "start_time": "2025-05-15T07:46:26.348Z"
   },
   {
    "duration": 3,
    "start_time": "2025-05-15T07:48:59.688Z"
   },
   {
    "duration": 23,
    "start_time": "2025-05-15T07:49:00.542Z"
   },
   {
    "duration": 3,
    "start_time": "2025-05-15T07:49:03.022Z"
   },
   {
    "duration": 931,
    "start_time": "2025-05-15T07:49:04.845Z"
   },
   {
    "duration": 2667,
    "start_time": "2025-05-15T07:49:12.632Z"
   },
   {
    "duration": 7,
    "start_time": "2025-05-15T07:52:31.003Z"
   },
   {
    "duration": 27,
    "start_time": "2025-05-15T07:52:32.049Z"
   },
   {
    "duration": 25170,
    "start_time": "2025-05-15T07:52:42.611Z"
   },
   {
    "duration": 5,
    "start_time": "2025-05-15T07:53:07.783Z"
   },
   {
    "duration": 13,
    "start_time": "2025-05-15T07:53:07.790Z"
   },
   {
    "duration": 33,
    "start_time": "2025-05-15T07:53:07.805Z"
   },
   {
    "duration": 4679,
    "start_time": "2025-05-15T07:53:07.839Z"
   },
   {
    "duration": 19,
    "start_time": "2025-05-15T07:53:12.519Z"
   },
   {
    "duration": 3834,
    "start_time": "2025-05-15T07:53:12.540Z"
   },
   {
    "duration": 3,
    "start_time": "2025-05-15T07:53:16.375Z"
   },
   {
    "duration": 25,
    "start_time": "2025-05-15T07:55:47.976Z"
   },
   {
    "duration": 9,
    "start_time": "2025-05-15T07:56:14.536Z"
   },
   {
    "duration": 12,
    "start_time": "2025-05-15T07:56:14.549Z"
   },
   {
    "duration": 14,
    "start_time": "2025-05-15T07:56:14.563Z"
   },
   {
    "duration": 9,
    "start_time": "2025-05-15T07:56:14.579Z"
   },
   {
    "duration": 4,
    "start_time": "2025-05-15T07:56:56.327Z"
   },
   {
    "duration": 3,
    "start_time": "2025-05-15T07:56:58.267Z"
   },
   {
    "duration": 1074700,
    "start_time": "2025-05-15T07:57:07.550Z"
   },
   {
    "duration": 5,
    "start_time": "2025-05-15T08:15:02.252Z"
   },
   {
    "duration": 994259,
    "start_time": "2025-05-15T08:15:02.259Z"
   },
   {
    "duration": 10,
    "start_time": "2025-05-15T08:31:36.520Z"
   },
   {
    "duration": 97,
    "start_time": "2025-05-15T08:31:36.532Z"
   },
   {
    "duration": 150,
    "start_time": "2025-05-15T08:31:36.631Z"
   },
   {
    "duration": 7,
    "start_time": "2025-05-15T08:31:36.784Z"
   }
  ],
  "kernelspec": {
   "display_name": "Python 3 (ipykernel)",
   "language": "python",
   "name": "python3"
  },
  "language_info": {
   "codemirror_mode": {
    "name": "ipython",
    "version": 3
   },
   "file_extension": ".py",
   "mimetype": "text/x-python",
   "name": "python",
   "nbconvert_exporter": "python",
   "pygments_lexer": "ipython3",
   "version": "3.12.4"
  },
  "toc": {
   "base_numbering": 1,
   "nav_menu": {},
   "number_sections": true,
   "sideBar": true,
   "skip_h1_title": true,
   "title_cell": "Table of Contents",
   "title_sidebar": "Contents",
   "toc_cell": false,
   "toc_position": {},
   "toc_section_display": true,
   "toc_window_display": false
  }
 },
 "nbformat": 4,
 "nbformat_minor": 5
}
